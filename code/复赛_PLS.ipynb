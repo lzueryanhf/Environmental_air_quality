{
 "cells": [
  {
   "cell_type": "code",
   "execution_count": 1,
   "metadata": {},
   "outputs": [],
   "source": [
    "import numpy as np\n",
    "import pandas as pd\n",
    "import matplotlib.pyplot as plt\n",
    "import seaborn as sns\n",
    "import warnings\n",
    "warnings.filterwarnings(\"ignore\")\n",
    "sns.set(style=\"darkgrid\")\n",
    "\n",
    "\n",
    "from sklearn.model_selection import train_test_split  #数据集的分割函数\n",
    "from sklearn.preprocessing import StandardScaler      #数据预处理\n",
    "from sklearn import metrics\n",
    "from sklearn.utils import shuffle\n",
    "\n",
    "\n",
    "from sklearn.linear_model import LinearRegression\n",
    "from sklearn.model_selection import KFold\n",
    "from sklearn.metrics import mean_squared_error\n",
    "def rmse(y_true,y_pred):\n",
    "    return mean_squared_error(y_true=y_true,y_pred=y_pred) ** 0.5"
   ]
  },
  {
   "cell_type": "code",
   "execution_count": 2,
   "metadata": {
    "scrolled": true
   },
   "outputs": [],
   "source": [
    "# train1 = pd.read_csv('./data/复赛/保定2016年.csv',encoding = 'gb2312')\n",
    "train = pd.read_csv('./data/复赛/train.csv')\n",
    "test  = pd.read_csv('./data/复赛/test.csv')\n",
    "\n",
    "# train = pd.concat([train1,train2]).reset_index(drop=True)"
   ]
  },
  {
   "cell_type": "code",
   "execution_count": 3,
   "metadata": {
    "scrolled": true
   },
   "outputs": [
    {
     "name": "stdout",
     "output_type": "stream",
     "text": [
      "<class 'pandas.core.frame.DataFrame'>\n",
      "RangeIndex: 701 entries, 0 to 700\n",
      "Data columns (total 9 columns):\n",
      " #   Column  Non-Null Count  Dtype  \n",
      "---  ------  --------------  -----  \n",
      " 0   date    701 non-null    object \n",
      " 1   AQI     490 non-null    float64\n",
      " 2   IPRC    490 non-null    float64\n",
      " 3   PM2_5   701 non-null    float64\n",
      " 4   PM10    701 non-null    float64\n",
      " 5   SO2     701 non-null    float64\n",
      " 6   NO2     701 non-null    float64\n",
      " 7   CO      701 non-null    float64\n",
      " 8   O3      701 non-null    float64\n",
      "dtypes: float64(8), object(1)\n",
      "memory usage: 49.4+ KB\n"
     ]
    }
   ],
   "source": [
    "# 分析数据 发现该数据更适合先用回归模型\n",
    "data = pd.concat([train,test]).reset_index(drop=True)\n",
    "data.info()"
   ]
  },
  {
   "cell_type": "code",
   "execution_count": 4,
   "metadata": {
    "scrolled": true
   },
   "outputs": [
    {
     "data": {
      "text/html": [
       "<div>\n",
       "<style scoped>\n",
       "    .dataframe tbody tr th:only-of-type {\n",
       "        vertical-align: middle;\n",
       "    }\n",
       "\n",
       "    .dataframe tbody tr th {\n",
       "        vertical-align: top;\n",
       "    }\n",
       "\n",
       "    .dataframe thead th {\n",
       "        text-align: right;\n",
       "    }\n",
       "</style>\n",
       "<table border=\"1\" class=\"dataframe\">\n",
       "  <thead>\n",
       "    <tr style=\"text-align: right;\">\n",
       "      <th></th>\n",
       "      <th>AQI</th>\n",
       "      <th>IPRC</th>\n",
       "      <th>PM2_5</th>\n",
       "      <th>PM10</th>\n",
       "      <th>SO2</th>\n",
       "      <th>NO2</th>\n",
       "      <th>CO</th>\n",
       "      <th>O3</th>\n",
       "    </tr>\n",
       "  </thead>\n",
       "  <tbody>\n",
       "    <tr>\n",
       "      <th>count</th>\n",
       "      <td>490.000000</td>\n",
       "      <td>490.000000</td>\n",
       "      <td>701.000000</td>\n",
       "      <td>701.000000</td>\n",
       "      <td>701.000000</td>\n",
       "      <td>701.000000</td>\n",
       "      <td>701.000000</td>\n",
       "      <td>701.000000</td>\n",
       "    </tr>\n",
       "    <tr>\n",
       "      <th>mean</th>\n",
       "      <td>87.153061</td>\n",
       "      <td>0.555682</td>\n",
       "      <td>61.406830</td>\n",
       "      <td>130.262066</td>\n",
       "      <td>24.513433</td>\n",
       "      <td>45.974263</td>\n",
       "      <td>1.714339</td>\n",
       "      <td>41.497652</td>\n",
       "    </tr>\n",
       "    <tr>\n",
       "      <th>std</th>\n",
       "      <td>37.703545</td>\n",
       "      <td>0.264510</td>\n",
       "      <td>40.648791</td>\n",
       "      <td>70.772481</td>\n",
       "      <td>17.389398</td>\n",
       "      <td>15.604374</td>\n",
       "      <td>0.727702</td>\n",
       "      <td>25.037378</td>\n",
       "    </tr>\n",
       "    <tr>\n",
       "      <th>min</th>\n",
       "      <td>20.000000</td>\n",
       "      <td>0.173101</td>\n",
       "      <td>11.000000</td>\n",
       "      <td>18.583333</td>\n",
       "      <td>3.000000</td>\n",
       "      <td>14.000000</td>\n",
       "      <td>0.590833</td>\n",
       "      <td>6.395833</td>\n",
       "    </tr>\n",
       "    <tr>\n",
       "      <th>25%</th>\n",
       "      <td>65.000000</td>\n",
       "      <td>0.404471</td>\n",
       "      <td>35.416667</td>\n",
       "      <td>81.416667</td>\n",
       "      <td>12.541667</td>\n",
       "      <td>34.333333</td>\n",
       "      <td>1.193958</td>\n",
       "      <td>20.375000</td>\n",
       "    </tr>\n",
       "    <tr>\n",
       "      <th>50%</th>\n",
       "      <td>77.000000</td>\n",
       "      <td>0.481091</td>\n",
       "      <td>49.416667</td>\n",
       "      <td>111.416667</td>\n",
       "      <td>18.916667</td>\n",
       "      <td>43.979167</td>\n",
       "      <td>1.528958</td>\n",
       "      <td>35.333333</td>\n",
       "    </tr>\n",
       "    <tr>\n",
       "      <th>75%</th>\n",
       "      <td>99.000000</td>\n",
       "      <td>0.595395</td>\n",
       "      <td>73.812500</td>\n",
       "      <td>158.812500</td>\n",
       "      <td>32.041667</td>\n",
       "      <td>55.291667</td>\n",
       "      <td>2.017917</td>\n",
       "      <td>59.041667</td>\n",
       "    </tr>\n",
       "    <tr>\n",
       "      <th>max</th>\n",
       "      <td>254.000000</td>\n",
       "      <td>1.762622</td>\n",
       "      <td>277.708333</td>\n",
       "      <td>441.541667</td>\n",
       "      <td>141.333333</td>\n",
       "      <td>98.958333</td>\n",
       "      <td>5.351250</td>\n",
       "      <td>115.125000</td>\n",
       "    </tr>\n",
       "  </tbody>\n",
       "</table>\n",
       "</div>"
      ],
      "text/plain": [
       "              AQI        IPRC       PM2_5        PM10         SO2         NO2  \\\n",
       "count  490.000000  490.000000  701.000000  701.000000  701.000000  701.000000   \n",
       "mean    87.153061    0.555682   61.406830  130.262066   24.513433   45.974263   \n",
       "std     37.703545    0.264510   40.648791   70.772481   17.389398   15.604374   \n",
       "min     20.000000    0.173101   11.000000   18.583333    3.000000   14.000000   \n",
       "25%     65.000000    0.404471   35.416667   81.416667   12.541667   34.333333   \n",
       "50%     77.000000    0.481091   49.416667  111.416667   18.916667   43.979167   \n",
       "75%     99.000000    0.595395   73.812500  158.812500   32.041667   55.291667   \n",
       "max    254.000000    1.762622  277.708333  441.541667  141.333333   98.958333   \n",
       "\n",
       "               CO          O3  \n",
       "count  701.000000  701.000000  \n",
       "mean     1.714339   41.497652  \n",
       "std      0.727702   25.037378  \n",
       "min      0.590833    6.395833  \n",
       "25%      1.193958   20.375000  \n",
       "50%      1.528958   35.333333  \n",
       "75%      2.017917   59.041667  \n",
       "max      5.351250  115.125000  "
      ]
     },
     "execution_count": 4,
     "metadata": {},
     "output_type": "execute_result"
    }
   ],
   "source": [
    "data.describe()"
   ]
  },
  {
   "cell_type": "code",
   "execution_count": 5,
   "metadata": {
    "scrolled": true
   },
   "outputs": [
    {
     "data": {
      "text/html": [
       "<div>\n",
       "<style scoped>\n",
       "    .dataframe tbody tr th:only-of-type {\n",
       "        vertical-align: middle;\n",
       "    }\n",
       "\n",
       "    .dataframe tbody tr th {\n",
       "        vertical-align: top;\n",
       "    }\n",
       "\n",
       "    .dataframe thead th {\n",
       "        text-align: right;\n",
       "    }\n",
       "</style>\n",
       "<table border=\"1\" class=\"dataframe\">\n",
       "  <thead>\n",
       "    <tr style=\"text-align: right;\">\n",
       "      <th></th>\n",
       "      <th>AQI</th>\n",
       "      <th>IPRC</th>\n",
       "      <th>PM2_5</th>\n",
       "      <th>PM10</th>\n",
       "      <th>SO2</th>\n",
       "      <th>NO2</th>\n",
       "      <th>CO</th>\n",
       "      <th>O3</th>\n",
       "    </tr>\n",
       "  </thead>\n",
       "  <tbody>\n",
       "    <tr>\n",
       "      <th>AQI</th>\n",
       "      <td>1.000000</td>\n",
       "      <td>0.982200</td>\n",
       "      <td>0.940951</td>\n",
       "      <td>0.976399</td>\n",
       "      <td>0.645464</td>\n",
       "      <td>0.628825</td>\n",
       "      <td>0.676860</td>\n",
       "      <td>-0.325561</td>\n",
       "    </tr>\n",
       "    <tr>\n",
       "      <th>IPRC</th>\n",
       "      <td>0.982200</td>\n",
       "      <td>1.000000</td>\n",
       "      <td>0.961824</td>\n",
       "      <td>0.958415</td>\n",
       "      <td>0.703346</td>\n",
       "      <td>0.677610</td>\n",
       "      <td>0.737358</td>\n",
       "      <td>-0.358652</td>\n",
       "    </tr>\n",
       "    <tr>\n",
       "      <th>PM2_5</th>\n",
       "      <td>0.940951</td>\n",
       "      <td>0.961824</td>\n",
       "      <td>1.000000</td>\n",
       "      <td>0.915142</td>\n",
       "      <td>0.662268</td>\n",
       "      <td>0.673468</td>\n",
       "      <td>0.799783</td>\n",
       "      <td>-0.368722</td>\n",
       "    </tr>\n",
       "    <tr>\n",
       "      <th>PM10</th>\n",
       "      <td>0.976399</td>\n",
       "      <td>0.958415</td>\n",
       "      <td>0.915142</td>\n",
       "      <td>1.000000</td>\n",
       "      <td>0.634369</td>\n",
       "      <td>0.707418</td>\n",
       "      <td>0.738838</td>\n",
       "      <td>-0.337589</td>\n",
       "    </tr>\n",
       "    <tr>\n",
       "      <th>SO2</th>\n",
       "      <td>0.645464</td>\n",
       "      <td>0.703346</td>\n",
       "      <td>0.662268</td>\n",
       "      <td>0.634369</td>\n",
       "      <td>1.000000</td>\n",
       "      <td>0.573664</td>\n",
       "      <td>0.771526</td>\n",
       "      <td>-0.583944</td>\n",
       "    </tr>\n",
       "    <tr>\n",
       "      <th>NO2</th>\n",
       "      <td>0.628825</td>\n",
       "      <td>0.677610</td>\n",
       "      <td>0.673468</td>\n",
       "      <td>0.707418</td>\n",
       "      <td>0.573664</td>\n",
       "      <td>1.000000</td>\n",
       "      <td>0.620340</td>\n",
       "      <td>-0.365185</td>\n",
       "    </tr>\n",
       "    <tr>\n",
       "      <th>CO</th>\n",
       "      <td>0.676860</td>\n",
       "      <td>0.737358</td>\n",
       "      <td>0.799783</td>\n",
       "      <td>0.738838</td>\n",
       "      <td>0.771526</td>\n",
       "      <td>0.620340</td>\n",
       "      <td>1.000000</td>\n",
       "      <td>-0.583191</td>\n",
       "    </tr>\n",
       "    <tr>\n",
       "      <th>O3</th>\n",
       "      <td>-0.325561</td>\n",
       "      <td>-0.358652</td>\n",
       "      <td>-0.368722</td>\n",
       "      <td>-0.337589</td>\n",
       "      <td>-0.583944</td>\n",
       "      <td>-0.365185</td>\n",
       "      <td>-0.583191</td>\n",
       "      <td>1.000000</td>\n",
       "    </tr>\n",
       "  </tbody>\n",
       "</table>\n",
       "</div>"
      ],
      "text/plain": [
       "            AQI      IPRC     PM2_5      PM10       SO2       NO2        CO  \\\n",
       "AQI    1.000000  0.982200  0.940951  0.976399  0.645464  0.628825  0.676860   \n",
       "IPRC   0.982200  1.000000  0.961824  0.958415  0.703346  0.677610  0.737358   \n",
       "PM2_5  0.940951  0.961824  1.000000  0.915142  0.662268  0.673468  0.799783   \n",
       "PM10   0.976399  0.958415  0.915142  1.000000  0.634369  0.707418  0.738838   \n",
       "SO2    0.645464  0.703346  0.662268  0.634369  1.000000  0.573664  0.771526   \n",
       "NO2    0.628825  0.677610  0.673468  0.707418  0.573664  1.000000  0.620340   \n",
       "CO     0.676860  0.737358  0.799783  0.738838  0.771526  0.620340  1.000000   \n",
       "O3    -0.325561 -0.358652 -0.368722 -0.337589 -0.583944 -0.365185 -0.583191   \n",
       "\n",
       "             O3  \n",
       "AQI   -0.325561  \n",
       "IPRC  -0.358652  \n",
       "PM2_5 -0.368722  \n",
       "PM10  -0.337589  \n",
       "SO2   -0.583944  \n",
       "NO2   -0.365185  \n",
       "CO    -0.583191  \n",
       "O3     1.000000  "
      ]
     },
     "execution_count": 5,
     "metadata": {},
     "output_type": "execute_result"
    }
   ],
   "source": [
    "data.corr()"
   ]
  },
  {
   "cell_type": "code",
   "execution_count": 6,
   "metadata": {},
   "outputs": [
    {
     "data": {
      "text/plain": [
       "(8.5, -0.5)"
      ]
     },
     "execution_count": 6,
     "metadata": {},
     "output_type": "execute_result"
    },
    {
     "data": {
      "image/png": "[encoded data removed]",
      "text/plain": [
       "<Figure size 720x720 with 2 Axes>"
      ]
     },
     "metadata": {},
     "output_type": "display_data"
    }
   ],
   "source": [
    "plt.figure(figsize=(10,10))\n",
    "ax = sns.heatmap(data.corr(),cmap=plt.cm.YlOrRd,annot=True,fmt='.2f')\n",
    "a,b = ax.get_ylim()\n",
    "ax.set_ylim(a+0.5,b-0.5)"
   ]
  },
  {
   "cell_type": "code",
   "execution_count": 7,
   "metadata": {},
   "outputs": [],
   "source": [
    "data['PM2_5'] = data['PM2_5'].apply(lambda x: np.rint(x))\n",
    "data['PM10'] = data['PM10'].apply(lambda x: np.rint(x))\n",
    "data['SO2'] = data['SO2'].apply(lambda x: np.rint(x))\n",
    "data['NO2'] = data['NO2'].apply(lambda x: np.rint(x))\n",
    "data['CO'] = data['CO'].apply(lambda x: round(x,1))\n",
    "data['O3'] = data['O3'].apply(lambda x: np.rint(x))"
   ]
  },
  {
   "cell_type": "code",
   "execution_count": 8,
   "metadata": {},
   "outputs": [],
   "source": [
    "# data['PM2_5'] = data['PM2_5'].apply(lambda x: round(x,1))\n",
    "# data['PM10'] = data['PM10'].apply(lambda x: round(x,1))\n",
    "# data['SO2'] = data['SO2'].apply(lambda x: round(x,1))\n",
    "# data['NO2'] = data['NO2'].apply(lambda x: round(x,1))\n",
    "# data['CO'] = data['CO'].apply(lambda x: round(x,1))\n",
    "# data['O3'] = data['O3'].apply(lambda x: round(x,1))"
   ]
  },
  {
   "cell_type": "code",
   "execution_count": 9,
   "metadata": {
    "scrolled": true
   },
   "outputs": [],
   "source": [
    "# # 两种四舍五入取整的方法\n",
    "# from decimal import Decimal\n",
    "# # Decimal('0.5').quantize(Decimal('1.'))\n",
    "# Decimal('0.512').quantize(Decimal(\"1.\"), rounding = \"ROUND_HALF_UP\")\n",
    "# np.rint(1.511)"
   ]
  },
  {
   "cell_type": "code",
   "execution_count": 10,
   "metadata": {
    "scrolled": true
   },
   "outputs": [
    {
     "name": "stdout",
     "output_type": "stream",
     "text": [
      "1.7437906294854835\n"
     ]
    },
    {
     "data": {
      "image/png": "[encoded data removed]",
      "text/plain": [
       "<Figure size 432x288 with 1 Axes>"
      ]
     },
     "metadata": {},
     "output_type": "display_data"
    }
   ],
   "source": [
    "# 对PM2.5区段进行划分 参考河北进行修改 跟国家标准一致\n",
    "def IAQI_PM25(x):  \n",
    "    if x >=0 and x<=35:\n",
    "        y = 50/35 * x\n",
    "        return y\n",
    "    elif x>35 and x<=75:\n",
    "        y = 50/40 * (x-35) + 50\n",
    "        return y \n",
    "    elif x>75 and x<=115:\n",
    "        y = 50/40 * (x-75) + 100\n",
    "        return y\n",
    "    elif x>115 and x<=150:\n",
    "        y = 50/35 * (x-115) + 150\n",
    "        return y\n",
    "    elif x>150 and x<=250:\n",
    "        y = 100/100 * (x-150) + 200\n",
    "        return y \n",
    "    elif x>250 and x<=350:\n",
    "        y = 100/100 * (x-250) + 300\n",
    "        return y\n",
    "    elif x>350 and x<=500:\n",
    "        y = 100/150 * (x-350) + 400\n",
    "        return y \n",
    "    else:  \n",
    "        return 500\n",
    "    \n",
    "data['IAQI_PM25'] = data['PM2_5'].apply(lambda x: np.rint(IAQI_PM25(x)))\n",
    "#核密度分布图\n",
    "sns.distplot(data[\"IAQI_PM25\"])\n",
    "print(data[\"IAQI_PM25\"].skew())"
   ]
  },
  {
   "cell_type": "code",
   "execution_count": 11,
   "metadata": {
    "scrolled": false
   },
   "outputs": [
    {
     "name": "stdout",
     "output_type": "stream",
     "text": [
      "1.7452042257535842\n"
     ]
    },
    {
     "data": {
      "image/png": "[encoded data removed]",
      "text/plain": [
       "<Figure size 432x288 with 1 Axes>"
      ]
     },
     "metadata": {},
     "output_type": "display_data"
    }
   ],
   "source": [
    "# 对PM10区段进行划分 中国标准\n",
    "def IAQI_PM10(x):  \n",
    "    if x >=0 and x<=50:\n",
    "        y = 50/50 * x\n",
    "        return y\n",
    "    elif x>50 and x<=150:\n",
    "        y = 50/100 * (x-50) + 50\n",
    "        return y \n",
    "    elif x>150 and x<=250:\n",
    "        y = 50/100 * (x-150) + 100\n",
    "        return y\n",
    "    elif x>250 and x<=350:\n",
    "        y = 50/100 * (x-250) + 150\n",
    "        return y\n",
    "    elif x>350 and x<=420:\n",
    "        y = 100/70 * (x-350) + 200\n",
    "        return y \n",
    "    elif x>420 and x<=500:\n",
    "        y = 100/80 * (x-420) + 300\n",
    "        return y\n",
    "    elif x>500 and x<=600:\n",
    "        y = 100/100 * (x-500) + 400\n",
    "        return y \n",
    "    else:  \n",
    "        return 500\n",
    "    \n",
    "data['IAQI_PM10'] = data['PM10'].apply(lambda x: np.rint(IAQI_PM10(x)))\n",
    "#核密度分布图\n",
    "sns.distplot(data[\"IAQI_PM10\"])\n",
    "print(data[\"IAQI_PM10\"].skew())"
   ]
  },
  {
   "cell_type": "code",
   "execution_count": 12,
   "metadata": {
    "scrolled": true
   },
   "outputs": [
    {
     "name": "stdout",
     "output_type": "stream",
     "text": [
      "1.1294444816834637\n"
     ]
    },
    {
     "data": {
      "image/png": "[encoded data removed]",
      "text/plain": [
       "<Figure size 432x288 with 1 Axes>"
      ]
     },
     "metadata": {},
     "output_type": "display_data"
    }
   ],
   "source": [
    "# 中国标准\n",
    "def IAQI_SO2(x):  \n",
    "    if x >=0 and x<=50:\n",
    "        y = 50/50 * x\n",
    "        return y\n",
    "    elif x>50 and x<=150:\n",
    "        y = 50/100 * (x-50) + 50\n",
    "        return y \n",
    "    elif x>150 and x<=475:\n",
    "        y = 50/325 * (x-150) + 100\n",
    "        return y\n",
    "    elif x>475 and x<=800:\n",
    "        y = 50/325 * (x-475) + 150\n",
    "        return y\n",
    "    elif x>800 and x<=1600:\n",
    "        y = 100/800 * (x-800) + 200\n",
    "        return y \n",
    "    elif x>1600 and x<=2100:\n",
    "        y = 100/500 * (x-1600) + 300\n",
    "        return y\n",
    "    elif x>2100 and x<=2620:\n",
    "        y = 100/520 * (x-2100) + 400\n",
    "        return y \n",
    "    else:  \n",
    "        return 500\n",
    "    \n",
    "data['IAQI_SO2'] = data['SO2'].apply(lambda x: np.rint(IAQI_SO2(x)))\n",
    "#核密度分布图\n",
    "sns.distplot(data[\"IAQI_SO2\"])\n",
    "print(data[\"IAQI_SO2\"].skew())"
   ]
  },
  {
   "cell_type": "code",
   "execution_count": 13,
   "metadata": {
    "scrolled": true
   },
   "outputs": [
    {
     "name": "stdout",
     "output_type": "stream",
     "text": [
      "0.5262935884143751\n"
     ]
    },
    {
     "data": {
      "image/png": "[encoded data removed]",
      "text/plain": [
       "<Figure size 432x288 with 1 Axes>"
      ]
     },
     "metadata": {},
     "output_type": "display_data"
    }
   ],
   "source": [
    "# 中国标准\n",
    "def IAQI_NO2(x):  \n",
    "    if x >=0 and x<=40:\n",
    "        y = 50/40 * x\n",
    "        return y\n",
    "    elif x>40 and x<=80:\n",
    "        y = 50/40 * (x-40) + 50\n",
    "        return y \n",
    "    elif x>80 and x<=180:\n",
    "        y = 50/100 * (x-80) + 100\n",
    "        return y\n",
    "    elif x>180 and x<=280:\n",
    "        y = 50/100 * (x-180) + 150\n",
    "        return y\n",
    "    elif x>280 and x<=565:\n",
    "        y = 100/285 * (x-280) + 200\n",
    "        return y \n",
    "    elif x>565 and x<=750:\n",
    "        y = 100/185 * (x-565) + 300\n",
    "        return y\n",
    "    elif x>750 and x<=940:\n",
    "        y = 100/190 * (x-750) + 400\n",
    "        return y \n",
    "    else:  \n",
    "        return 500\n",
    "    \n",
    "data['IAQI_NO2'] = data['NO2'].apply(lambda x: np.rint(IAQI_NO2(x)))\n",
    "#核密度分布图\n",
    "sns.distplot(data[\"IAQI_NO2\"])\n",
    "print(data[\"IAQI_NO2\"].skew())"
   ]
  },
  {
   "cell_type": "code",
   "execution_count": 14,
   "metadata": {},
   "outputs": [],
   "source": [
    "# # 参考河北标准修改\n",
    "# def IAQI_NO2(x):  \n",
    "#     if x >=0 and x<=100:\n",
    "#         y = 50/100 * x\n",
    "#         return y\n",
    "#     elif x>100 and x<=200:\n",
    "#         y = 50/100 * (x-100) + 50\n",
    "#         return y \n",
    "#     elif x>200 and x<=600:\n",
    "#         y = 100/400 * (x-200) + 100\n",
    "#         return y\n",
    "\n",
    "    \n",
    "# data['IAQI_NO2'] = data['NO2'].apply(lambda x: np.rint(IAQI_NO2(x)))\n",
    "# #核密度分布图\n",
    "# sns.distplot(data[\"IAQI_NO2\"])\n",
    "# print(data[\"IAQI_NO2\"].skew())"
   ]
  },
  {
   "cell_type": "code",
   "execution_count": 15,
   "metadata": {
    "scrolled": true
   },
   "outputs": [
    {
     "name": "stdout",
     "output_type": "stream",
     "text": [
      "1.3676317364264658\n"
     ]
    },
    {
     "data": {
      "image/png": "[encoded data removed]",
      "text/plain": [
       "<Figure size 432x288 with 1 Axes>"
      ]
     },
     "metadata": {},
     "output_type": "display_data"
    }
   ],
   "source": [
    "# 中国标准\n",
    "def IAQI_CO(x):  \n",
    "    if x >=0 and x<=2:\n",
    "        y = 50/2 * x\n",
    "        return y\n",
    "    elif x>2 and x<=4:\n",
    "        y = 50/2 * (x-2) + 50\n",
    "        return y  \n",
    "    else:\n",
    "        y = 50/10 * (x-4) + 100\n",
    "        return y\n",
    "    \n",
    "data['IAQI_CO'] = data['CO'].apply(lambda x: np.rint(IAQI_CO(x)))\n",
    "#核密度分布图\n",
    "sns.distplot(data[\"IAQI_CO\"])\n",
    "print(data[\"IAQI_CO\"].skew())"
   ]
  },
  {
   "cell_type": "code",
   "execution_count": 16,
   "metadata": {},
   "outputs": [],
   "source": [
    "# # 美国标准\n",
    "# def IAQI_CO(x):  \n",
    "#     if x >=0 and x<=5:\n",
    "#         y = 50/5 * x\n",
    "#         return y\n",
    "#     elif x>5 and x<=10:\n",
    "#         y = 50/5 * (x-5) + 50\n",
    "#         return y  \n",
    "#     else:\n",
    "#         y = 50/5 * (x-10) + 100\n",
    "#         return y\n",
    "    \n",
    "# data['IAQI_CO'] = data['CO'].apply(lambda x: np.rint(IAQI_CO(x)))\n",
    "# #核密度分布图\n",
    "# sns.distplot(data[\"IAQI_CO\"])\n",
    "# print(data[\"IAQI_CO\"].skew())"
   ]
  },
  {
   "cell_type": "code",
   "execution_count": 17,
   "metadata": {},
   "outputs": [
    {
     "name": "stdout",
     "output_type": "stream",
     "text": [
      "0.7076292144143042\n"
     ]
    },
    {
     "data": {
      "image/png": "[encoded data removed]",
      "text/plain": [
       "<Figure size 432x288 with 1 Axes>"
      ]
     },
     "metadata": {},
     "output_type": "display_data"
    }
   ],
   "source": [
    "# 中国标准\n",
    "def IAQI_O3(x):  \n",
    "    if x >=0 and x<=100:\n",
    "        y = 50/100 * x\n",
    "        return y\n",
    "    elif x>100 and x<=160:\n",
    "        y = 50/60 * (x-100) + 50\n",
    "        return y \n",
    "    elif x>160 and x<=215:\n",
    "        y = 50/55 * (x-160) + 100\n",
    "        return y\n",
    "    elif x>215 and x<=265:\n",
    "        y = 50/50 * (x-215) + 150\n",
    "        return y\n",
    "    else: \n",
    "        y = 100/535 * (x-265) + 200\n",
    "        return y\n",
    "    \n",
    "    \n",
    "data['IAQI_O3'] = data['O3'].apply(lambda x: np.rint(IAQI_O3(x)))\n",
    "#核密度分布图\n",
    "sns.distplot(data[\"IAQI_O3\"])\n",
    "print(data[\"IAQI_O3\"].skew())"
   ]
  },
  {
   "cell_type": "code",
   "execution_count": 18,
   "metadata": {},
   "outputs": [],
   "source": [
    "# # 美国标准\n",
    "# def IAQI_O3(x):  \n",
    "#     if x >=0 and x<=120:\n",
    "#         y = 50/120 * x\n",
    "#         return y\n",
    "#     elif x>120 and x<=150:\n",
    "#         y = 50/30 * (x-120) + 50\n",
    "#         return y \n",
    "#     elif x>150 and x<=190:\n",
    "#         y = 50/40 * (x-150) + 100\n",
    "#         return y\n",
    "#     elif x>190 and x<=230:\n",
    "#         y = 50/40 * (x-190) + 150\n",
    "#         return y\n",
    "#     else: \n",
    "#         y = 100/500 * (x-230) + 200\n",
    "#         return y\n",
    "    \n",
    "    \n",
    "# data['IAQI_O3'] = data['O3'].apply(lambda x: np.rint(IAQI_O3(x)))\n",
    "# #核密度分布图\n",
    "# sns.distplot(data[\"IAQI_O3\"])\n",
    "# print(data[\"IAQI_O3\"].skew())"
   ]
  },
  {
   "cell_type": "code",
   "execution_count": 19,
   "metadata": {
    "scrolled": false
   },
   "outputs": [
    {
     "name": "stdout",
     "output_type": "stream",
     "text": [
      "<class 'pandas.core.frame.DataFrame'>\n",
      "RangeIndex: 701 entries, 0 to 700\n",
      "Data columns (total 15 columns):\n",
      " #   Column     Non-Null Count  Dtype  \n",
      "---  ------     --------------  -----  \n",
      " 0   date       701 non-null    object \n",
      " 1   AQI        490 non-null    float64\n",
      " 2   IPRC       490 non-null    float64\n",
      " 3   PM2_5      701 non-null    float64\n",
      " 4   PM10       701 non-null    float64\n",
      " 5   SO2        701 non-null    float64\n",
      " 6   NO2        701 non-null    float64\n",
      " 7   CO         701 non-null    float64\n",
      " 8   O3         701 non-null    float64\n",
      " 9   IAQI_PM25  701 non-null    float64\n",
      " 10  IAQI_PM10  701 non-null    float64\n",
      " 11  IAQI_SO2   701 non-null    float64\n",
      " 12  IAQI_NO2   701 non-null    float64\n",
      " 13  IAQI_CO    701 non-null    float64\n",
      " 14  IAQI_O3    701 non-null    float64\n",
      "dtypes: float64(14), object(1)\n",
      "memory usage: 82.3+ KB\n"
     ]
    }
   ],
   "source": [
    "data.info()"
   ]
  },
  {
   "cell_type": "markdown",
   "metadata": {},
   "source": [
    "#### 首要污染物 计算AQI\n",
    "存在两种计算主要污染物的方式\n",
    "\n",
    "1.依据IAQI\n",
    "\n",
    "2.依据ci/si"
   ]
  },
  {
   "cell_type": "code",
   "execution_count": 20,
   "metadata": {
    "scrolled": true
   },
   "outputs": [
    {
     "data": {
      "text/html": [
       "<div>\n",
       "<style scoped>\n",
       "    .dataframe tbody tr th:only-of-type {\n",
       "        vertical-align: middle;\n",
       "    }\n",
       "\n",
       "    .dataframe tbody tr th {\n",
       "        vertical-align: top;\n",
       "    }\n",
       "\n",
       "    .dataframe thead th {\n",
       "        text-align: right;\n",
       "    }\n",
       "</style>\n",
       "<table border=\"1\" class=\"dataframe\">\n",
       "  <thead>\n",
       "    <tr style=\"text-align: right;\">\n",
       "      <th></th>\n",
       "      <th>IAQI_PM25</th>\n",
       "      <th>IAQI_PM10</th>\n",
       "      <th>IAQI_SO2</th>\n",
       "      <th>IAQI_NO2</th>\n",
       "      <th>IAQI_CO</th>\n",
       "      <th>IAQI_O3</th>\n",
       "    </tr>\n",
       "  </thead>\n",
       "  <tbody>\n",
       "    <tr>\n",
       "      <th>0</th>\n",
       "      <td>74.0</td>\n",
       "      <td>76.0</td>\n",
       "      <td>14.0</td>\n",
       "      <td>26.0</td>\n",
       "      <td>42.0</td>\n",
       "      <td>38.0</td>\n",
       "    </tr>\n",
       "    <tr>\n",
       "      <th>1</th>\n",
       "      <td>95.0</td>\n",
       "      <td>95.0</td>\n",
       "      <td>13.0</td>\n",
       "      <td>30.0</td>\n",
       "      <td>50.0</td>\n",
       "      <td>42.0</td>\n",
       "    </tr>\n",
       "    <tr>\n",
       "      <th>2</th>\n",
       "      <td>79.0</td>\n",
       "      <td>85.0</td>\n",
       "      <td>14.0</td>\n",
       "      <td>21.0</td>\n",
       "      <td>45.0</td>\n",
       "      <td>46.0</td>\n",
       "    </tr>\n",
       "    <tr>\n",
       "      <th>3</th>\n",
       "      <td>49.0</td>\n",
       "      <td>58.0</td>\n",
       "      <td>10.0</td>\n",
       "      <td>22.0</td>\n",
       "      <td>42.0</td>\n",
       "      <td>26.0</td>\n",
       "    </tr>\n",
       "    <tr>\n",
       "      <th>4</th>\n",
       "      <td>98.0</td>\n",
       "      <td>86.0</td>\n",
       "      <td>13.0</td>\n",
       "      <td>41.0</td>\n",
       "      <td>45.0</td>\n",
       "      <td>30.0</td>\n",
       "    </tr>\n",
       "  </tbody>\n",
       "</table>\n",
       "</div>"
      ],
      "text/plain": [
       "   IAQI_PM25  IAQI_PM10  IAQI_SO2  IAQI_NO2  IAQI_CO  IAQI_O3\n",
       "0       74.0       76.0      14.0      26.0     42.0     38.0\n",
       "1       95.0       95.0      13.0      30.0     50.0     42.0\n",
       "2       79.0       85.0      14.0      21.0     45.0     46.0\n",
       "3       49.0       58.0      10.0      22.0     42.0     26.0\n",
       "4       98.0       86.0      13.0      41.0     45.0     30.0"
      ]
     },
     "execution_count": 20,
     "metadata": {},
     "output_type": "execute_result"
    }
   ],
   "source": [
    "temp = data.iloc[:,9:15]\n",
    "temp.head()"
   ]
  },
  {
   "cell_type": "code",
   "execution_count": 21,
   "metadata": {
    "scrolled": true
   },
   "outputs": [
    {
     "data": {
      "text/html": [
       "<div>\n",
       "<style scoped>\n",
       "    .dataframe tbody tr th:only-of-type {\n",
       "        vertical-align: middle;\n",
       "    }\n",
       "\n",
       "    .dataframe tbody tr th {\n",
       "        vertical-align: top;\n",
       "    }\n",
       "\n",
       "    .dataframe thead th {\n",
       "        text-align: right;\n",
       "    }\n",
       "</style>\n",
       "<table border=\"1\" class=\"dataframe\">\n",
       "  <thead>\n",
       "    <tr style=\"text-align: right;\">\n",
       "      <th></th>\n",
       "      <th>date</th>\n",
       "      <th>AQI</th>\n",
       "      <th>IPRC</th>\n",
       "      <th>PM2_5</th>\n",
       "      <th>PM10</th>\n",
       "      <th>SO2</th>\n",
       "      <th>NO2</th>\n",
       "      <th>CO</th>\n",
       "      <th>O3</th>\n",
       "      <th>IAQI_PM25</th>\n",
       "      <th>IAQI_PM10</th>\n",
       "      <th>IAQI_SO2</th>\n",
       "      <th>IAQI_NO2</th>\n",
       "      <th>IAQI_CO</th>\n",
       "      <th>IAQI_O3</th>\n",
       "      <th>max_idx</th>\n",
       "      <th>max_val</th>\n",
       "      <th>mean_val</th>\n",
       "      <th>median_val</th>\n",
       "      <th>I_val</th>\n",
       "    </tr>\n",
       "  </thead>\n",
       "  <tbody>\n",
       "    <tr>\n",
       "      <th>0</th>\n",
       "      <td>2014/6/1</td>\n",
       "      <td>78.0</td>\n",
       "      <td>0.480805</td>\n",
       "      <td>54.0</td>\n",
       "      <td>103.0</td>\n",
       "      <td>14.0</td>\n",
       "      <td>21.0</td>\n",
       "      <td>1.7</td>\n",
       "      <td>75.0</td>\n",
       "      <td>74.0</td>\n",
       "      <td>76.0</td>\n",
       "      <td>14.0</td>\n",
       "      <td>26.0</td>\n",
       "      <td>42.0</td>\n",
       "      <td>38.0</td>\n",
       "      <td>IAQI_PM10</td>\n",
       "      <td>76.0</td>\n",
       "      <td>45.000000</td>\n",
       "      <td>40.0</td>\n",
       "      <td>58.480766</td>\n",
       "    </tr>\n",
       "    <tr>\n",
       "      <th>1</th>\n",
       "      <td>2014/6/2</td>\n",
       "      <td>101.0</td>\n",
       "      <td>0.587508</td>\n",
       "      <td>71.0</td>\n",
       "      <td>140.0</td>\n",
       "      <td>13.0</td>\n",
       "      <td>24.0</td>\n",
       "      <td>2.0</td>\n",
       "      <td>83.0</td>\n",
       "      <td>95.0</td>\n",
       "      <td>95.0</td>\n",
       "      <td>13.0</td>\n",
       "      <td>30.0</td>\n",
       "      <td>50.0</td>\n",
       "      <td>42.0</td>\n",
       "      <td>IAQI_PM25</td>\n",
       "      <td>95.0</td>\n",
       "      <td>54.166667</td>\n",
       "      <td>46.0</td>\n",
       "      <td>71.734464</td>\n",
       "    </tr>\n",
       "    <tr>\n",
       "      <th>2</th>\n",
       "      <td>2014/6/3</td>\n",
       "      <td>86.0</td>\n",
       "      <td>0.525599</td>\n",
       "      <td>58.0</td>\n",
       "      <td>120.0</td>\n",
       "      <td>14.0</td>\n",
       "      <td>17.0</td>\n",
       "      <td>1.8</td>\n",
       "      <td>91.0</td>\n",
       "      <td>79.0</td>\n",
       "      <td>85.0</td>\n",
       "      <td>14.0</td>\n",
       "      <td>21.0</td>\n",
       "      <td>45.0</td>\n",
       "      <td>46.0</td>\n",
       "      <td>IAQI_PM10</td>\n",
       "      <td>85.0</td>\n",
       "      <td>48.333333</td>\n",
       "      <td>45.5</td>\n",
       "      <td>64.096282</td>\n",
       "    </tr>\n",
       "    <tr>\n",
       "      <th>3</th>\n",
       "      <td>2014/6/4</td>\n",
       "      <td>59.0</td>\n",
       "      <td>0.364717</td>\n",
       "      <td>34.0</td>\n",
       "      <td>66.0</td>\n",
       "      <td>10.0</td>\n",
       "      <td>18.0</td>\n",
       "      <td>1.7</td>\n",
       "      <td>51.0</td>\n",
       "      <td>49.0</td>\n",
       "      <td>58.0</td>\n",
       "      <td>10.0</td>\n",
       "      <td>22.0</td>\n",
       "      <td>42.0</td>\n",
       "      <td>26.0</td>\n",
       "      <td>IAQI_PM10</td>\n",
       "      <td>58.0</td>\n",
       "      <td>34.500000</td>\n",
       "      <td>34.0</td>\n",
       "      <td>44.732538</td>\n",
       "    </tr>\n",
       "    <tr>\n",
       "      <th>4</th>\n",
       "      <td>2014/6/5</td>\n",
       "      <td>100.0</td>\n",
       "      <td>0.584368</td>\n",
       "      <td>73.0</td>\n",
       "      <td>123.0</td>\n",
       "      <td>13.0</td>\n",
       "      <td>33.0</td>\n",
       "      <td>1.8</td>\n",
       "      <td>61.0</td>\n",
       "      <td>98.0</td>\n",
       "      <td>86.0</td>\n",
       "      <td>13.0</td>\n",
       "      <td>41.0</td>\n",
       "      <td>45.0</td>\n",
       "      <td>30.0</td>\n",
       "      <td>IAQI_PM25</td>\n",
       "      <td>98.0</td>\n",
       "      <td>52.166667</td>\n",
       "      <td>43.0</td>\n",
       "      <td>71.500583</td>\n",
       "    </tr>\n",
       "  </tbody>\n",
       "</table>\n",
       "</div>"
      ],
      "text/plain": [
       "       date    AQI      IPRC  PM2_5   PM10   SO2   NO2   CO    O3  IAQI_PM25  \\\n",
       "0  2014/6/1   78.0  0.480805   54.0  103.0  14.0  21.0  1.7  75.0       74.0   \n",
       "1  2014/6/2  101.0  0.587508   71.0  140.0  13.0  24.0  2.0  83.0       95.0   \n",
       "2  2014/6/3   86.0  0.525599   58.0  120.0  14.0  17.0  1.8  91.0       79.0   \n",
       "3  2014/6/4   59.0  0.364717   34.0   66.0  10.0  18.0  1.7  51.0       49.0   \n",
       "4  2014/6/5  100.0  0.584368   73.0  123.0  13.0  33.0  1.8  61.0       98.0   \n",
       "\n",
       "   IAQI_PM10  IAQI_SO2  IAQI_NO2  IAQI_CO  IAQI_O3    max_idx  max_val  \\\n",
       "0       76.0      14.0      26.0     42.0     38.0  IAQI_PM10     76.0   \n",
       "1       95.0      13.0      30.0     50.0     42.0  IAQI_PM25     95.0   \n",
       "2       85.0      14.0      21.0     45.0     46.0  IAQI_PM10     85.0   \n",
       "3       58.0      10.0      22.0     42.0     26.0  IAQI_PM10     58.0   \n",
       "4       86.0      13.0      41.0     45.0     30.0  IAQI_PM25     98.0   \n",
       "\n",
       "    mean_val  median_val      I_val  \n",
       "0  45.000000        40.0  58.480766  \n",
       "1  54.166667        46.0  71.734464  \n",
       "2  48.333333        45.5  64.096282  \n",
       "3  34.500000        34.0  44.732538  \n",
       "4  52.166667        43.0  71.500583  "
      ]
     },
     "execution_count": 21,
     "metadata": {},
     "output_type": "execute_result"
    }
   ],
   "source": [
    "temp = data.iloc[:,9:15]\n",
    "data['max_idx'] = temp.idxmax(axis=1) #求一行的最大值对应的索引\n",
    "data['max_val']= temp.max(axis=1)#取出该最大值\n",
    "data['mean_val']= temp.mean(axis=1)#取出该均值\n",
    "data['median_val']= temp.median(axis=1)#取出该中位数\n",
    "data['I_val'] = (data['max_val'] * data['mean_val'])**0.5\n",
    "data.head()"
   ]
  },
  {
   "cell_type": "markdown",
   "metadata": {},
   "source": [
    "### 排除异常值"
   ]
  },
  {
   "cell_type": "code",
   "execution_count": 22,
   "metadata": {},
   "outputs": [],
   "source": [
    "data_temp = data[:train.shape[0]]\n",
    "data_temp['gap'] = abs(data_temp['AQI'] - data_temp['max_val'])\n",
    "# data_temp['gap'] = data_temp['AQI'] - data_temp['max_val']"
   ]
  },
  {
   "cell_type": "code",
   "execution_count": 23,
   "metadata": {
    "scrolled": true
   },
   "outputs": [
    {
     "data": {
      "text/plain": [
       "count    490.000000\n",
       "mean       1.842857\n",
       "std        3.272523\n",
       "min        0.000000\n",
       "25%        0.000000\n",
       "50%        1.000000\n",
       "75%        2.000000\n",
       "max       49.000000\n",
       "Name: gap, dtype: float64"
      ]
     },
     "execution_count": 23,
     "metadata": {},
     "output_type": "execute_result"
    }
   ],
   "source": [
    "data_temp['gap'].describe()"
   ]
  },
  {
   "cell_type": "code",
   "execution_count": 24,
   "metadata": {
    "scrolled": true
   },
   "outputs": [
    {
     "data": {
      "text/plain": [
       "<AxesSubplot:>"
      ]
     },
     "execution_count": 24,
     "metadata": {},
     "output_type": "execute_result"
    },
    {
     "data": {
      "image/png": "[encoded data removed]",
      "text/plain": [
       "<Figure size 432x288 with 1 Axes>"
      ]
     },
     "metadata": {},
     "output_type": "display_data"
    }
   ],
   "source": [
    "sns.boxplot(data=data_temp['gap'])"
   ]
  },
  {
   "cell_type": "markdown",
   "metadata": {},
   "source": [
    "四分位距IQR=Q3-Q1，\n",
    "那么上限=Q3+1.5IQR\n",
    "下限=Q1-1.5IQR"
   ]
  },
  {
   "cell_type": "code",
   "execution_count": 25,
   "metadata": {
    "scrolled": false
   },
   "outputs": [
    {
     "data": {
      "image/png": "[encoded data removed]",
      "text/plain": [
       "<Figure size 432x288 with 1 Axes>"
      ]
     },
     "metadata": {},
     "output_type": "display_data"
    }
   ],
   "source": [
    "plt.scatter(data_temp['AQI'], data_temp['gap'])\n",
    "plt.show()"
   ]
  },
  {
   "cell_type": "code",
   "execution_count": 26,
   "metadata": {
    "scrolled": true
   },
   "outputs": [
    {
     "name": "stdout",
     "output_type": "stream",
     "text": [
      "<class 'pandas.core.frame.DataFrame'>\n",
      "Int64Index: 483 entries, 0 to 489\n",
      "Data columns (total 20 columns):\n",
      " #   Column      Non-Null Count  Dtype  \n",
      "---  ------      --------------  -----  \n",
      " 0   date        483 non-null    object \n",
      " 1   AQI         483 non-null    float64\n",
      " 2   IPRC        483 non-null    float64\n",
      " 3   PM2_5       483 non-null    float64\n",
      " 4   PM10        483 non-null    float64\n",
      " 5   SO2         483 non-null    float64\n",
      " 6   NO2         483 non-null    float64\n",
      " 7   CO          483 non-null    float64\n",
      " 8   O3          483 non-null    float64\n",
      " 9   IAQI_PM25   483 non-null    float64\n",
      " 10  IAQI_PM10   483 non-null    float64\n",
      " 11  IAQI_SO2    483 non-null    float64\n",
      " 12  IAQI_NO2    483 non-null    float64\n",
      " 13  IAQI_CO     483 non-null    float64\n",
      " 14  IAQI_O3     483 non-null    float64\n",
      " 15  max_idx     483 non-null    object \n",
      " 16  max_val     483 non-null    float64\n",
      " 17  mean_val    483 non-null    float64\n",
      " 18  median_val  483 non-null    float64\n",
      " 19  I_val       483 non-null    float64\n",
      "dtypes: float64(18), object(2)\n",
      "memory usage: 79.2+ KB\n"
     ]
    }
   ],
   "source": [
    "train_temp = data_temp[data_temp['gap']<=10]\n",
    "del train_temp['gap']\n",
    "train_temp.info()"
   ]
  },
  {
   "cell_type": "code",
   "execution_count": 27,
   "metadata": {
    "scrolled": true
   },
   "outputs": [
    {
     "name": "stdout",
     "output_type": "stream",
     "text": [
      "<class 'pandas.core.frame.DataFrame'>\n",
      "RangeIndex: 211 entries, 490 to 700\n",
      "Data columns (total 20 columns):\n",
      " #   Column      Non-Null Count  Dtype  \n",
      "---  ------      --------------  -----  \n",
      " 0   date        211 non-null    object \n",
      " 1   AQI         0 non-null      float64\n",
      " 2   IPRC        0 non-null      float64\n",
      " 3   PM2_5       211 non-null    float64\n",
      " 4   PM10        211 non-null    float64\n",
      " 5   SO2         211 non-null    float64\n",
      " 6   NO2         211 non-null    float64\n",
      " 7   CO          211 non-null    float64\n",
      " 8   O3          211 non-null    float64\n",
      " 9   IAQI_PM25   211 non-null    float64\n",
      " 10  IAQI_PM10   211 non-null    float64\n",
      " 11  IAQI_SO2    211 non-null    float64\n",
      " 12  IAQI_NO2    211 non-null    float64\n",
      " 13  IAQI_CO     211 non-null    float64\n",
      " 14  IAQI_O3     211 non-null    float64\n",
      " 15  max_idx     211 non-null    object \n",
      " 16  max_val     211 non-null    float64\n",
      " 17  mean_val    211 non-null    float64\n",
      " 18  median_val  211 non-null    float64\n",
      " 19  I_val       211 non-null    float64\n",
      "dtypes: float64(18), object(2)\n",
      "memory usage: 33.1+ KB\n"
     ]
    }
   ],
   "source": [
    "test_temp = data[train.shape[0]:]\n",
    "test_temp.info()"
   ]
  },
  {
   "cell_type": "code",
   "execution_count": 28,
   "metadata": {
    "scrolled": true
   },
   "outputs": [
    {
     "name": "stdout",
     "output_type": "stream",
     "text": [
      "<class 'pandas.core.frame.DataFrame'>\n",
      "RangeIndex: 694 entries, 0 to 693\n",
      "Data columns (total 20 columns):\n",
      " #   Column      Non-Null Count  Dtype  \n",
      "---  ------      --------------  -----  \n",
      " 0   date        694 non-null    object \n",
      " 1   AQI         483 non-null    float64\n",
      " 2   IPRC        483 non-null    float64\n",
      " 3   PM2_5       694 non-null    float64\n",
      " 4   PM10        694 non-null    float64\n",
      " 5   SO2         694 non-null    float64\n",
      " 6   NO2         694 non-null    float64\n",
      " 7   CO          694 non-null    float64\n",
      " 8   O3          694 non-null    float64\n",
      " 9   IAQI_PM25   694 non-null    float64\n",
      " 10  IAQI_PM10   694 non-null    float64\n",
      " 11  IAQI_SO2    694 non-null    float64\n",
      " 12  IAQI_NO2    694 non-null    float64\n",
      " 13  IAQI_CO     694 non-null    float64\n",
      " 14  IAQI_O3     694 non-null    float64\n",
      " 15  max_idx     694 non-null    object \n",
      " 16  max_val     694 non-null    float64\n",
      " 17  mean_val    694 non-null    float64\n",
      " 18  median_val  694 non-null    float64\n",
      " 19  I_val       694 non-null    float64\n",
      "dtypes: float64(18), object(2)\n",
      "memory usage: 108.6+ KB\n"
     ]
    }
   ],
   "source": [
    "data = pd.concat([train_temp,test_temp]).reset_index(drop=True)\n",
    "data.info()"
   ]
  },
  {
   "cell_type": "markdown",
   "metadata": {},
   "source": [
    "### 根据质量等级排除异常"
   ]
  },
  {
   "cell_type": "code",
   "execution_count": 29,
   "metadata": {},
   "outputs": [
    {
     "name": "stdout",
     "output_type": "stream",
     "text": [
      "<class 'pandas.core.frame.DataFrame'>\n",
      "RangeIndex: 490 entries, 0 to 489\n",
      "Data columns (total 20 columns):\n",
      " #   Column      Non-Null Count  Dtype  \n",
      "---  ------      --------------  -----  \n",
      " 0   date        490 non-null    object \n",
      " 1   AQI         489 non-null    float64\n",
      " 2   IPRC        489 non-null    float64\n",
      " 3   PM2_5       490 non-null    float64\n",
      " 4   PM10        490 non-null    float64\n",
      " 5   SO2         490 non-null    float64\n",
      " 6   NO2         490 non-null    float64\n",
      " 7   CO          490 non-null    float64\n",
      " 8   O3          490 non-null    float64\n",
      " 9   IAQI_PM25   490 non-null    float64\n",
      " 10  IAQI_PM10   490 non-null    float64\n",
      " 11  IAQI_SO2    490 non-null    float64\n",
      " 12  IAQI_NO2    490 non-null    float64\n",
      " 13  IAQI_CO     490 non-null    float64\n",
      " 14  IAQI_O3     490 non-null    float64\n",
      " 15  max_idx     490 non-null    object \n",
      " 16  max_val     490 non-null    float64\n",
      " 17  mean_val    490 non-null    float64\n",
      " 18  median_val  490 non-null    float64\n",
      " 19  I_val       490 non-null    float64\n",
      "dtypes: float64(18), object(2)\n",
      "memory usage: 76.7+ KB\n"
     ]
    }
   ],
   "source": [
    "data_temp = data[:train.shape[0]]\n",
    "data_temp.info()"
   ]
  },
  {
   "cell_type": "code",
   "execution_count": 33,
   "metadata": {},
   "outputs": [],
   "source": [
    "def quality_level(x):  \n",
    "    if x >=0 and x<=50:\n",
    "        return '优'\n",
    "    elif x>50 and x<=100:\n",
    "        return '良' \n",
    "    elif x>100 and x<=150:\n",
    "        return '轻度污染'\n",
    "    elif x>150 and x<=200:\n",
    "        return '中度污染'\n",
    "    elif x>200 and x<=300:\n",
    "        return '重度污染' \n",
    "    elif x>300 and x<=500:\n",
    "        return '严重污染'\n",
    "    else:  \n",
    "        return  '未知'\n",
    "\n",
    "data_temp['AQI_质量等级'] = data_temp['AQI'].apply(lambda x: quality_level(x))\n",
    "data_temp['max_val_质量等级'] = data_temp['max_val'].apply(lambda x: quality_level(x))"
   ]
  },
  {
   "cell_type": "code",
   "execution_count": 24,
   "metadata": {},
   "outputs": [],
   "source": [
    "def function(a, b):\n",
    "    if a == b:\n",
    "        return 1\n",
    "    else:\n",
    "        return 0\n",
    "data_temp['bool'] = data_temp.apply(lambda x : function(x['AQI_质量等级'],x['max_val_质量等级']),axis = 1)"
   ]
  },
  {
   "cell_type": "code",
   "execution_count": 25,
   "metadata": {},
   "outputs": [
    {
     "name": "stdout",
     "output_type": "stream",
     "text": [
      "<class 'pandas.core.frame.DataFrame'>\n",
      "Int64Index: 469 entries, 0 to 489\n",
      "Data columns (total 23 columns):\n",
      " #   Column        Non-Null Count  Dtype  \n",
      "---  ------        --------------  -----  \n",
      " 0   date          469 non-null    object \n",
      " 1   AQI           469 non-null    float64\n",
      " 2   IPRC          469 non-null    float64\n",
      " 3   PM2_5         469 non-null    float64\n",
      " 4   PM10          469 non-null    float64\n",
      " 5   SO2           469 non-null    float64\n",
      " 6   NO2           469 non-null    float64\n",
      " 7   CO            469 non-null    float64\n",
      " 8   O3            469 non-null    float64\n",
      " 9   IAQI_PM25     469 non-null    float64\n",
      " 10  IAQI_PM10     469 non-null    float64\n",
      " 11  IAQI_SO2      469 non-null    float64\n",
      " 12  IAQI_NO2      469 non-null    float64\n",
      " 13  IAQI_CO       469 non-null    float64\n",
      " 14  IAQI_O3       469 non-null    float64\n",
      " 15  max_idx       469 non-null    object \n",
      " 16  max_val       469 non-null    float64\n",
      " 17  mean_val      469 non-null    float64\n",
      " 18  median_val    469 non-null    float64\n",
      " 19  I_val         469 non-null    float64\n",
      " 20  AQI_质量等级      469 non-null    object \n",
      " 21  max_val_质量等级  469 non-null    object \n",
      " 22  bool          469 non-null    int64  \n",
      "dtypes: float64(18), int64(1), object(4)\n",
      "memory usage: 87.9+ KB\n"
     ]
    }
   ],
   "source": [
    "train_temp = data_temp[data_temp['bool']==1]\n",
    "train_temp.info()"
   ]
  },
  {
   "cell_type": "code",
   "execution_count": 26,
   "metadata": {
    "scrolled": true
   },
   "outputs": [
    {
     "name": "stdout",
     "output_type": "stream",
     "text": [
      "<class 'pandas.core.frame.DataFrame'>\n",
      "Int64Index: 469 entries, 0 to 489\n",
      "Data columns (total 20 columns):\n",
      " #   Column      Non-Null Count  Dtype  \n",
      "---  ------      --------------  -----  \n",
      " 0   date        469 non-null    object \n",
      " 1   AQI         469 non-null    float64\n",
      " 2   IPRC        469 non-null    float64\n",
      " 3   PM2_5       469 non-null    float64\n",
      " 4   PM10        469 non-null    float64\n",
      " 5   SO2         469 non-null    float64\n",
      " 6   NO2         469 non-null    float64\n",
      " 7   CO          469 non-null    float64\n",
      " 8   O3          469 non-null    float64\n",
      " 9   IAQI_PM25   469 non-null    float64\n",
      " 10  IAQI_PM10   469 non-null    float64\n",
      " 11  IAQI_SO2    469 non-null    float64\n",
      " 12  IAQI_NO2    469 non-null    float64\n",
      " 13  IAQI_CO     469 non-null    float64\n",
      " 14  IAQI_O3     469 non-null    float64\n",
      " 15  max_idx     469 non-null    object \n",
      " 16  max_val     469 non-null    float64\n",
      " 17  mean_val    469 non-null    float64\n",
      " 18  median_val  469 non-null    float64\n",
      " 19  I_val       469 non-null    float64\n",
      "dtypes: float64(18), object(2)\n",
      "memory usage: 76.9+ KB\n"
     ]
    }
   ],
   "source": [
    "del train_temp['AQI_质量等级']\n",
    "del train_temp['max_val_质量等级']\n",
    "del train_temp['bool']\n",
    "train_temp.info()"
   ]
  },
  {
   "cell_type": "code",
   "execution_count": 27,
   "metadata": {},
   "outputs": [
    {
     "name": "stdout",
     "output_type": "stream",
     "text": [
      "<class 'pandas.core.frame.DataFrame'>\n",
      "RangeIndex: 211 entries, 490 to 700\n",
      "Data columns (total 20 columns):\n",
      " #   Column      Non-Null Count  Dtype  \n",
      "---  ------      --------------  -----  \n",
      " 0   date        211 non-null    object \n",
      " 1   AQI         0 non-null      float64\n",
      " 2   IPRC        0 non-null      float64\n",
      " 3   PM2_5       211 non-null    float64\n",
      " 4   PM10        211 non-null    float64\n",
      " 5   SO2         211 non-null    float64\n",
      " 6   NO2         211 non-null    float64\n",
      " 7   CO          211 non-null    float64\n",
      " 8   O3          211 non-null    float64\n",
      " 9   IAQI_PM25   211 non-null    float64\n",
      " 10  IAQI_PM10   211 non-null    float64\n",
      " 11  IAQI_SO2    211 non-null    float64\n",
      " 12  IAQI_NO2    211 non-null    float64\n",
      " 13  IAQI_CO     211 non-null    float64\n",
      " 14  IAQI_O3     211 non-null    float64\n",
      " 15  max_idx     211 non-null    object \n",
      " 16  max_val     211 non-null    float64\n",
      " 17  mean_val    211 non-null    float64\n",
      " 18  median_val  211 non-null    float64\n",
      " 19  I_val       211 non-null    float64\n",
      "dtypes: float64(18), object(2)\n",
      "memory usage: 33.1+ KB\n"
     ]
    }
   ],
   "source": [
    "test_temp = data[train.shape[0]:]\n",
    "test_temp.info()"
   ]
  },
  {
   "cell_type": "code",
   "execution_count": 28,
   "metadata": {
    "scrolled": true
   },
   "outputs": [
    {
     "name": "stdout",
     "output_type": "stream",
     "text": [
      "<class 'pandas.core.frame.DataFrame'>\n",
      "RangeIndex: 680 entries, 0 to 679\n",
      "Data columns (total 20 columns):\n",
      " #   Column      Non-Null Count  Dtype  \n",
      "---  ------      --------------  -----  \n",
      " 0   date        680 non-null    object \n",
      " 1   AQI         469 non-null    float64\n",
      " 2   IPRC        469 non-null    float64\n",
      " 3   PM2_5       680 non-null    float64\n",
      " 4   PM10        680 non-null    float64\n",
      " 5   SO2         680 non-null    float64\n",
      " 6   NO2         680 non-null    float64\n",
      " 7   CO          680 non-null    float64\n",
      " 8   O3          680 non-null    float64\n",
      " 9   IAQI_PM25   680 non-null    float64\n",
      " 10  IAQI_PM10   680 non-null    float64\n",
      " 11  IAQI_SO2    680 non-null    float64\n",
      " 12  IAQI_NO2    680 non-null    float64\n",
      " 13  IAQI_CO     680 non-null    float64\n",
      " 14  IAQI_O3     680 non-null    float64\n",
      " 15  max_idx     680 non-null    object \n",
      " 16  max_val     680 non-null    float64\n",
      " 17  mean_val    680 non-null    float64\n",
      " 18  median_val  680 non-null    float64\n",
      " 19  I_val       680 non-null    float64\n",
      "dtypes: float64(18), object(2)\n",
      "memory usage: 106.4+ KB\n"
     ]
    }
   ],
   "source": [
    "data = pd.concat([train_temp,test_temp]).reset_index(drop=True)\n",
    "data.info()"
   ]
  },
  {
   "cell_type": "markdown",
   "metadata": {},
   "source": [
    "### 特征处理"
   ]
  },
  {
   "cell_type": "code",
   "execution_count": 29,
   "metadata": {},
   "outputs": [],
   "source": [
    "def quality_level(x):  \n",
    "    if x >=0 and x<=50:\n",
    "        return '优'\n",
    "    elif x>50 and x<=100:\n",
    "        return '良' \n",
    "    elif x>100 and x<=150:\n",
    "        return '轻度污染'\n",
    "    elif x>150 and x<=200:\n",
    "        return '中度污染'\n",
    "    elif x>200 and x<=300:\n",
    "        return '重度污染' \n",
    "    elif x>300 and x<=500:\n",
    "        return '严重污染'\n",
    "    else:  \n",
    "        return  '未知'\n",
    "\n",
    "data['max_val_质量等级'] = data['max_val'].apply(lambda x: quality_level(x))"
   ]
  },
  {
   "cell_type": "code",
   "execution_count": 30,
   "metadata": {},
   "outputs": [
    {
     "data": {
      "image/png": "[encoded data removed]",
      "text/plain": [
       "<Figure size 432x288 with 1 Axes>"
      ]
     },
     "metadata": {},
     "output_type": "display_data"
    }
   ],
   "source": [
    "sns.scatterplot(x = \"max_val\", y = \"AQI\",data=data, hue='max_val_质量等级')\n",
    "sns.set(style='whitegrid',)\n",
    "plt.show()"
   ]
  },
  {
   "cell_type": "code",
   "execution_count": 31,
   "metadata": {},
   "outputs": [],
   "source": [
    "data.loc[data.max_val<=50,'max_idx'] = 'None_Pollution'"
   ]
  },
  {
   "cell_type": "code",
   "execution_count": 32,
   "metadata": {},
   "outputs": [
    {
     "data": {
      "text/plain": [
       "array(['IAQI_PM10', 'IAQI_PM25', 'None_Pollution', 'IAQI_NO2', 'IAQI_CO'],\n",
       "      dtype=object)"
      ]
     },
     "execution_count": 32,
     "metadata": {},
     "output_type": "execute_result"
    }
   ],
   "source": [
    "data['max_idx'].unique()"
   ]
  },
  {
   "cell_type": "code",
   "execution_count": 33,
   "metadata": {},
   "outputs": [
    {
     "data": {
      "text/html": [
       "<div>\n",
       "<style scoped>\n",
       "    .dataframe tbody tr th:only-of-type {\n",
       "        vertical-align: middle;\n",
       "    }\n",
       "\n",
       "    .dataframe tbody tr th {\n",
       "        vertical-align: top;\n",
       "    }\n",
       "\n",
       "    .dataframe thead th {\n",
       "        text-align: right;\n",
       "    }\n",
       "</style>\n",
       "<table border=\"1\" class=\"dataframe\">\n",
       "  <thead>\n",
       "    <tr style=\"text-align: right;\">\n",
       "      <th></th>\n",
       "      <th>date</th>\n",
       "      <th>AQI</th>\n",
       "      <th>IPRC</th>\n",
       "      <th>PM2_5</th>\n",
       "      <th>PM10</th>\n",
       "      <th>SO2</th>\n",
       "      <th>NO2</th>\n",
       "      <th>CO</th>\n",
       "      <th>O3</th>\n",
       "      <th>IAQI_PM25</th>\n",
       "      <th>...</th>\n",
       "      <th>max_val</th>\n",
       "      <th>mean_val</th>\n",
       "      <th>median_val</th>\n",
       "      <th>I_val</th>\n",
       "      <th>max_val_质量等级</th>\n",
       "      <th>CO_P</th>\n",
       "      <th>NO2_P</th>\n",
       "      <th>None_Pollution</th>\n",
       "      <th>PM10_P</th>\n",
       "      <th>PM25_P</th>\n",
       "    </tr>\n",
       "  </thead>\n",
       "  <tbody>\n",
       "    <tr>\n",
       "      <th>0</th>\n",
       "      <td>2014/6/1</td>\n",
       "      <td>78.0</td>\n",
       "      <td>0.480805</td>\n",
       "      <td>54.0</td>\n",
       "      <td>103.0</td>\n",
       "      <td>14.0</td>\n",
       "      <td>21.0</td>\n",
       "      <td>1.7</td>\n",
       "      <td>75.0</td>\n",
       "      <td>74.0</td>\n",
       "      <td>...</td>\n",
       "      <td>76.0</td>\n",
       "      <td>45.000000</td>\n",
       "      <td>40.0</td>\n",
       "      <td>58.480766</td>\n",
       "      <td>良</td>\n",
       "      <td>0</td>\n",
       "      <td>0</td>\n",
       "      <td>0</td>\n",
       "      <td>1</td>\n",
       "      <td>0</td>\n",
       "    </tr>\n",
       "    <tr>\n",
       "      <th>1</th>\n",
       "      <td>2014/6/2</td>\n",
       "      <td>101.0</td>\n",
       "      <td>0.587508</td>\n",
       "      <td>71.0</td>\n",
       "      <td>140.0</td>\n",
       "      <td>13.0</td>\n",
       "      <td>24.0</td>\n",
       "      <td>2.0</td>\n",
       "      <td>83.0</td>\n",
       "      <td>95.0</td>\n",
       "      <td>...</td>\n",
       "      <td>95.0</td>\n",
       "      <td>54.166667</td>\n",
       "      <td>46.0</td>\n",
       "      <td>71.734464</td>\n",
       "      <td>良</td>\n",
       "      <td>0</td>\n",
       "      <td>0</td>\n",
       "      <td>0</td>\n",
       "      <td>0</td>\n",
       "      <td>1</td>\n",
       "    </tr>\n",
       "    <tr>\n",
       "      <th>2</th>\n",
       "      <td>2014/6/3</td>\n",
       "      <td>86.0</td>\n",
       "      <td>0.525599</td>\n",
       "      <td>58.0</td>\n",
       "      <td>120.0</td>\n",
       "      <td>14.0</td>\n",
       "      <td>17.0</td>\n",
       "      <td>1.8</td>\n",
       "      <td>91.0</td>\n",
       "      <td>79.0</td>\n",
       "      <td>...</td>\n",
       "      <td>85.0</td>\n",
       "      <td>48.333333</td>\n",
       "      <td>45.5</td>\n",
       "      <td>64.096282</td>\n",
       "      <td>良</td>\n",
       "      <td>0</td>\n",
       "      <td>0</td>\n",
       "      <td>0</td>\n",
       "      <td>1</td>\n",
       "      <td>0</td>\n",
       "    </tr>\n",
       "    <tr>\n",
       "      <th>3</th>\n",
       "      <td>2014/6/4</td>\n",
       "      <td>59.0</td>\n",
       "      <td>0.364717</td>\n",
       "      <td>34.0</td>\n",
       "      <td>66.0</td>\n",
       "      <td>10.0</td>\n",
       "      <td>18.0</td>\n",
       "      <td>1.7</td>\n",
       "      <td>51.0</td>\n",
       "      <td>49.0</td>\n",
       "      <td>...</td>\n",
       "      <td>58.0</td>\n",
       "      <td>34.500000</td>\n",
       "      <td>34.0</td>\n",
       "      <td>44.732538</td>\n",
       "      <td>良</td>\n",
       "      <td>0</td>\n",
       "      <td>0</td>\n",
       "      <td>0</td>\n",
       "      <td>1</td>\n",
       "      <td>0</td>\n",
       "    </tr>\n",
       "    <tr>\n",
       "      <th>4</th>\n",
       "      <td>2014/6/5</td>\n",
       "      <td>100.0</td>\n",
       "      <td>0.584368</td>\n",
       "      <td>73.0</td>\n",
       "      <td>123.0</td>\n",
       "      <td>13.0</td>\n",
       "      <td>33.0</td>\n",
       "      <td>1.8</td>\n",
       "      <td>61.0</td>\n",
       "      <td>98.0</td>\n",
       "      <td>...</td>\n",
       "      <td>98.0</td>\n",
       "      <td>52.166667</td>\n",
       "      <td>43.0</td>\n",
       "      <td>71.500583</td>\n",
       "      <td>良</td>\n",
       "      <td>0</td>\n",
       "      <td>0</td>\n",
       "      <td>0</td>\n",
       "      <td>0</td>\n",
       "      <td>1</td>\n",
       "    </tr>\n",
       "  </tbody>\n",
       "</table>\n",
       "<p>5 rows × 26 columns</p>\n",
       "</div>"
      ],
      "text/plain": [
       "       date    AQI      IPRC  PM2_5   PM10   SO2   NO2   CO    O3  IAQI_PM25  \\\n",
       "0  2014/6/1   78.0  0.480805   54.0  103.0  14.0  21.0  1.7  75.0       74.0   \n",
       "1  2014/6/2  101.0  0.587508   71.0  140.0  13.0  24.0  2.0  83.0       95.0   \n",
       "2  2014/6/3   86.0  0.525599   58.0  120.0  14.0  17.0  1.8  91.0       79.0   \n",
       "3  2014/6/4   59.0  0.364717   34.0   66.0  10.0  18.0  1.7  51.0       49.0   \n",
       "4  2014/6/5  100.0  0.584368   73.0  123.0  13.0  33.0  1.8  61.0       98.0   \n",
       "\n",
       "   ...  max_val   mean_val  median_val      I_val  max_val_质量等级 CO_P  NO2_P  \\\n",
       "0  ...     76.0  45.000000        40.0  58.480766             良    0      0   \n",
       "1  ...     95.0  54.166667        46.0  71.734464             良    0      0   \n",
       "2  ...     85.0  48.333333        45.5  64.096282             良    0      0   \n",
       "3  ...     58.0  34.500000        34.0  44.732538             良    0      0   \n",
       "4  ...     98.0  52.166667        43.0  71.500583             良    0      0   \n",
       "\n",
       "   None_Pollution  PM10_P  PM25_P  \n",
       "0               0       1       0  \n",
       "1               0       0       1  \n",
       "2               0       1       0  \n",
       "3               0       1       0  \n",
       "4               0       0       1  \n",
       "\n",
       "[5 rows x 26 columns]"
      ]
     },
     "execution_count": 33,
     "metadata": {},
     "output_type": "execute_result"
    }
   ],
   "source": [
    "data['max_idx'] = data['max_idx'].replace('IAQI_PM25', 'PM25_P') \n",
    "data['max_idx'] = data['max_idx'].replace('IAQI_PM10', 'PM10_P')\n",
    "data['max_idx'] = data['max_idx'].replace('IAQI_CO', 'CO_P') \n",
    "data['max_idx'] = data['max_idx'].replace('IAQI_NO2', 'NO2_P') \n",
    "# # data['max_idx'] = data['max_idx'].replace('IAQI_O3', 'O3_P') \n",
    "# data['max_idx'] = data['max_idx'].replace('IAQI_SO2', 'SO2_P')\n",
    "\n",
    "data_onehot = pd.get_dummies(data['max_idx'])\n",
    "\n",
    "data = pd.concat([data,data_onehot],axis=1)\n",
    "data.head()"
   ]
  },
  {
   "cell_type": "code",
   "execution_count": 34,
   "metadata": {},
   "outputs": [
    {
     "data": {
      "text/html": [
       "<div>\n",
       "<style scoped>\n",
       "    .dataframe tbody tr th:only-of-type {\n",
       "        vertical-align: middle;\n",
       "    }\n",
       "\n",
       "    .dataframe tbody tr th {\n",
       "        vertical-align: top;\n",
       "    }\n",
       "\n",
       "    .dataframe thead th {\n",
       "        text-align: right;\n",
       "    }\n",
       "</style>\n",
       "<table border=\"1\" class=\"dataframe\">\n",
       "  <thead>\n",
       "    <tr style=\"text-align: right;\">\n",
       "      <th></th>\n",
       "      <th>date</th>\n",
       "      <th>AQI</th>\n",
       "      <th>IPRC</th>\n",
       "      <th>PM2_5</th>\n",
       "      <th>PM10</th>\n",
       "      <th>SO2</th>\n",
       "      <th>NO2</th>\n",
       "      <th>CO</th>\n",
       "      <th>O3</th>\n",
       "      <th>IAQI_PM25</th>\n",
       "      <th>...</th>\n",
       "      <th>NO2_P</th>\n",
       "      <th>None_Pollution</th>\n",
       "      <th>PM10_P</th>\n",
       "      <th>PM25_P</th>\n",
       "      <th>严重污染</th>\n",
       "      <th>中度污染</th>\n",
       "      <th>优</th>\n",
       "      <th>良</th>\n",
       "      <th>轻度污染</th>\n",
       "      <th>重度污染</th>\n",
       "    </tr>\n",
       "  </thead>\n",
       "  <tbody>\n",
       "    <tr>\n",
       "      <th>0</th>\n",
       "      <td>2014/6/1</td>\n",
       "      <td>78.0</td>\n",
       "      <td>0.480805</td>\n",
       "      <td>54.0</td>\n",
       "      <td>103.0</td>\n",
       "      <td>14.0</td>\n",
       "      <td>21.0</td>\n",
       "      <td>1.7</td>\n",
       "      <td>75.0</td>\n",
       "      <td>74.0</td>\n",
       "      <td>...</td>\n",
       "      <td>0</td>\n",
       "      <td>0</td>\n",
       "      <td>1</td>\n",
       "      <td>0</td>\n",
       "      <td>0</td>\n",
       "      <td>0</td>\n",
       "      <td>0</td>\n",
       "      <td>1</td>\n",
       "      <td>0</td>\n",
       "      <td>0</td>\n",
       "    </tr>\n",
       "    <tr>\n",
       "      <th>1</th>\n",
       "      <td>2014/6/2</td>\n",
       "      <td>101.0</td>\n",
       "      <td>0.587508</td>\n",
       "      <td>71.0</td>\n",
       "      <td>140.0</td>\n",
       "      <td>13.0</td>\n",
       "      <td>24.0</td>\n",
       "      <td>2.0</td>\n",
       "      <td>83.0</td>\n",
       "      <td>95.0</td>\n",
       "      <td>...</td>\n",
       "      <td>0</td>\n",
       "      <td>0</td>\n",
       "      <td>0</td>\n",
       "      <td>1</td>\n",
       "      <td>0</td>\n",
       "      <td>0</td>\n",
       "      <td>0</td>\n",
       "      <td>1</td>\n",
       "      <td>0</td>\n",
       "      <td>0</td>\n",
       "    </tr>\n",
       "    <tr>\n",
       "      <th>2</th>\n",
       "      <td>2014/6/3</td>\n",
       "      <td>86.0</td>\n",
       "      <td>0.525599</td>\n",
       "      <td>58.0</td>\n",
       "      <td>120.0</td>\n",
       "      <td>14.0</td>\n",
       "      <td>17.0</td>\n",
       "      <td>1.8</td>\n",
       "      <td>91.0</td>\n",
       "      <td>79.0</td>\n",
       "      <td>...</td>\n",
       "      <td>0</td>\n",
       "      <td>0</td>\n",
       "      <td>1</td>\n",
       "      <td>0</td>\n",
       "      <td>0</td>\n",
       "      <td>0</td>\n",
       "      <td>0</td>\n",
       "      <td>1</td>\n",
       "      <td>0</td>\n",
       "      <td>0</td>\n",
       "    </tr>\n",
       "    <tr>\n",
       "      <th>3</th>\n",
       "      <td>2014/6/4</td>\n",
       "      <td>59.0</td>\n",
       "      <td>0.364717</td>\n",
       "      <td>34.0</td>\n",
       "      <td>66.0</td>\n",
       "      <td>10.0</td>\n",
       "      <td>18.0</td>\n",
       "      <td>1.7</td>\n",
       "      <td>51.0</td>\n",
       "      <td>49.0</td>\n",
       "      <td>...</td>\n",
       "      <td>0</td>\n",
       "      <td>0</td>\n",
       "      <td>1</td>\n",
       "      <td>0</td>\n",
       "      <td>0</td>\n",
       "      <td>0</td>\n",
       "      <td>0</td>\n",
       "      <td>1</td>\n",
       "      <td>0</td>\n",
       "      <td>0</td>\n",
       "    </tr>\n",
       "    <tr>\n",
       "      <th>4</th>\n",
       "      <td>2014/6/5</td>\n",
       "      <td>100.0</td>\n",
       "      <td>0.584368</td>\n",
       "      <td>73.0</td>\n",
       "      <td>123.0</td>\n",
       "      <td>13.0</td>\n",
       "      <td>33.0</td>\n",
       "      <td>1.8</td>\n",
       "      <td>61.0</td>\n",
       "      <td>98.0</td>\n",
       "      <td>...</td>\n",
       "      <td>0</td>\n",
       "      <td>0</td>\n",
       "      <td>0</td>\n",
       "      <td>1</td>\n",
       "      <td>0</td>\n",
       "      <td>0</td>\n",
       "      <td>0</td>\n",
       "      <td>1</td>\n",
       "      <td>0</td>\n",
       "      <td>0</td>\n",
       "    </tr>\n",
       "  </tbody>\n",
       "</table>\n",
       "<p>5 rows × 32 columns</p>\n",
       "</div>"
      ],
      "text/plain": [
       "       date    AQI      IPRC  PM2_5   PM10   SO2   NO2   CO    O3  IAQI_PM25  \\\n",
       "0  2014/6/1   78.0  0.480805   54.0  103.0  14.0  21.0  1.7  75.0       74.0   \n",
       "1  2014/6/2  101.0  0.587508   71.0  140.0  13.0  24.0  2.0  83.0       95.0   \n",
       "2  2014/6/3   86.0  0.525599   58.0  120.0  14.0  17.0  1.8  91.0       79.0   \n",
       "3  2014/6/4   59.0  0.364717   34.0   66.0  10.0  18.0  1.7  51.0       49.0   \n",
       "4  2014/6/5  100.0  0.584368   73.0  123.0  13.0  33.0  1.8  61.0       98.0   \n",
       "\n",
       "   ...  NO2_P  None_Pollution  PM10_P  PM25_P  严重污染 中度污染  优  良  轻度污染  重度污染  \n",
       "0  ...      0               0       1       0     0    0  0  1     0     0  \n",
       "1  ...      0               0       0       1     0    0  0  1     0     0  \n",
       "2  ...      0               0       1       0     0    0  0  1     0     0  \n",
       "3  ...      0               0       1       0     0    0  0  1     0     0  \n",
       "4  ...      0               0       0       1     0    0  0  1     0     0  \n",
       "\n",
       "[5 rows x 32 columns]"
      ]
     },
     "execution_count": 34,
     "metadata": {},
     "output_type": "execute_result"
    }
   ],
   "source": [
    "data_onehot = pd.get_dummies(data['max_val_质量等级'])\n",
    "\n",
    "data = pd.concat([data,data_onehot],axis=1)\n",
    "data.head()"
   ]
  },
  {
   "cell_type": "code",
   "execution_count": 35,
   "metadata": {},
   "outputs": [],
   "source": [
    "data['date'] = pd.to_datetime(data['date'],format='%Y-%m-%d')\n",
    "data['month']=data['date'].dt.month\n",
    "data['quarter']=data['date'].dt.quarter"
   ]
  },
  {
   "cell_type": "markdown",
   "metadata": {},
   "source": [
    "#### 是否高于年平均二级浓度限值"
   ]
  },
  {
   "cell_type": "code",
   "execution_count": 36,
   "metadata": {},
   "outputs": [],
   "source": [
    "data['PM25_year'] =data['PM2_5'].apply(lambda x: 0 if x <=35 else 1)\n",
    "data['PM10_year'] =data['PM10'].apply(lambda x: 0 if x <=70 else 1)\n",
    "data['SO2_year'] =data['SO2'].apply(lambda x: 0 if x <=60 else 1)\n",
    "data['NO2_year'] =data['NO2'].apply(lambda x: 0 if x <=40 else 1)\n",
    "# data['CO_year'] =data['CO'].apply(lambda x: 0 if x <=4 else 1)\n",
    "# data['O3_8h_year'] =data['O3_8h'].apply(lambda x: 0 if x <=160 else 1)"
   ]
  },
  {
   "cell_type": "markdown",
   "metadata": {},
   "source": [
    "#### 是否高于日平均二级浓度限值"
   ]
  },
  {
   "cell_type": "code",
   "execution_count": 37,
   "metadata": {},
   "outputs": [],
   "source": [
    "data['PM25_day'] =data['PM2_5'].apply(lambda x: 0 if x <=75 else 1)\n",
    "data['PM10_day'] =data['PM10'].apply(lambda x: 0 if x <=150 else 1)\n",
    "data['SO2_day'] =data['SO2'].apply(lambda x: 0 if x <=150 else 1)\n",
    "data['NO2_day'] =data['NO2'].apply(lambda x: 0 if x <=80 else 1)\n",
    "data['CO_day'] =data['CO'].apply(lambda x: 0 if x <=4 else 1)\n",
    "data['O3_day'] =data['O3'].apply(lambda x: 0 if x <=160 else 1)"
   ]
  },
  {
   "cell_type": "code",
   "execution_count": 38,
   "metadata": {},
   "outputs": [],
   "source": [
    "data['SO2_B'] = data['SO2'].apply(lambda x: 0 if x <=150 else (x-150)/150)\n",
    "\n",
    "data['NO2_B'] = data['NO2'].apply(lambda x: 0 if x <=80 else (x-80)/80)\n",
    "\n",
    "data['PM10_B'] = data['PM10'].apply(lambda x: 0 if x <=150 else (x-150)/150)\n",
    "\n",
    "data['PM25_B'] = data['PM2_5'].apply(lambda x: 0 if x <=75 else (x-75)/75)\n",
    "\n",
    "data['CO_B'] = data['CO'].apply(lambda x: 0 if x <=4 else (x-4)/4)\n",
    "\n",
    "data['O3_B'] = data['O3'].apply(lambda x: 0 if x <=160 else (x-160)/160)"
   ]
  },
  {
   "cell_type": "markdown",
   "metadata": {},
   "source": [
    "#### 单项质量指数\n",
    "\n",
    "当 i 为 SO2、 NO2、 PM10及 PM2.5时，Si为污染物 i 的年均浓度二级标准限值；\n",
    "\n",
    "当 i 为 O3时， Si为日最大8 小时平均的二级标准限值；当 i 为 CO 时， Si为日均浓度二级标准限值。"
   ]
  },
  {
   "cell_type": "code",
   "execution_count": 39,
   "metadata": {},
   "outputs": [],
   "source": [
    "data['SO2_index'] = data['SO2'] / 60\n",
    "\n",
    "data['NO2_index'] = data['NO2'] / 40\n",
    "\n",
    "data['PM10_index'] = data['PM10'] / 70\n",
    "\n",
    "data['PM25_index'] = data['PM2_5'] / 35\n",
    "\n",
    "data['CO_index'] = data['CO'] / 4\n",
    "\n",
    "data['O3_index'] = data['O3'] / 160"
   ]
  },
  {
   "cell_type": "code",
   "execution_count": 40,
   "metadata": {},
   "outputs": [
    {
     "name": "stdout",
     "output_type": "stream",
     "text": [
      "<class 'pandas.core.frame.DataFrame'>\n",
      "RangeIndex: 694 entries, 0 to 693\n",
      "Data columns (total 56 columns):\n",
      " #   Column          Non-Null Count  Dtype         \n",
      "---  ------          --------------  -----         \n",
      " 0   date            694 non-null    datetime64[ns]\n",
      " 1   AQI             483 non-null    float64       \n",
      " 2   IPRC            483 non-null    float64       \n",
      " 3   PM2_5           694 non-null    float64       \n",
      " 4   PM10            694 non-null    float64       \n",
      " 5   SO2             694 non-null    float64       \n",
      " 6   NO2             694 non-null    float64       \n",
      " 7   CO              694 non-null    float64       \n",
      " 8   O3              694 non-null    float64       \n",
      " 9   IAQI_PM25       694 non-null    float64       \n",
      " 10  IAQI_PM10       694 non-null    float64       \n",
      " 11  IAQI_SO2        694 non-null    float64       \n",
      " 12  IAQI_NO2        694 non-null    float64       \n",
      " 13  IAQI_CO         694 non-null    float64       \n",
      " 14  IAQI_O3         694 non-null    float64       \n",
      " 15  max_idx         694 non-null    object        \n",
      " 16  max_val         694 non-null    float64       \n",
      " 17  mean_val        694 non-null    float64       \n",
      " 18  median_val      694 non-null    float64       \n",
      " 19  I_val           694 non-null    float64       \n",
      " 20  max_val_质量等级    694 non-null    object        \n",
      " 21  CO_P            694 non-null    uint8         \n",
      " 22  NO2_P           694 non-null    uint8         \n",
      " 23  None_Pollution  694 non-null    uint8         \n",
      " 24  PM10_P          694 non-null    uint8         \n",
      " 25  PM25_P          694 non-null    uint8         \n",
      " 26  严重污染            694 non-null    uint8         \n",
      " 27  中度污染            694 non-null    uint8         \n",
      " 28  优               694 non-null    uint8         \n",
      " 29  良               694 non-null    uint8         \n",
      " 30  轻度污染            694 non-null    uint8         \n",
      " 31  重度污染            694 non-null    uint8         \n",
      " 32  month           694 non-null    int64         \n",
      " 33  quarter         694 non-null    int64         \n",
      " 34  PM25_year       694 non-null    int64         \n",
      " 35  PM10_year       694 non-null    int64         \n",
      " 36  SO2_year        694 non-null    int64         \n",
      " 37  NO2_year        694 non-null    int64         \n",
      " 38  PM25_day        694 non-null    int64         \n",
      " 39  PM10_day        694 non-null    int64         \n",
      " 40  SO2_day         694 non-null    int64         \n",
      " 41  NO2_day         694 non-null    int64         \n",
      " 42  CO_day          694 non-null    int64         \n",
      " 43  O3_day          694 non-null    int64         \n",
      " 44  SO2_B           694 non-null    int64         \n",
      " 45  NO2_B           694 non-null    float64       \n",
      " 46  PM10_B          694 non-null    float64       \n",
      " 47  PM25_B          694 non-null    float64       \n",
      " 48  CO_B            694 non-null    float64       \n",
      " 49  O3_B            694 non-null    int64         \n",
      " 50  SO2_index       694 non-null    float64       \n",
      " 51  NO2_index       694 non-null    float64       \n",
      " 52  PM10_index      694 non-null    float64       \n",
      " 53  PM25_index      694 non-null    float64       \n",
      " 54  CO_index        694 non-null    float64       \n",
      " 55  O3_index        694 non-null    float64       \n",
      "dtypes: datetime64[ns](1), float64(28), int64(14), object(2), uint8(11)\n",
      "memory usage: 251.6+ KB\n"
     ]
    }
   ],
   "source": [
    "data.info()"
   ]
  },
  {
   "cell_type": "code",
   "execution_count": 41,
   "metadata": {},
   "outputs": [],
   "source": [
    "temp = data.iloc[:,50:56]\n",
    "data['max_index']= temp.max(axis=1)#取出该最大值\n",
    "data['sum_index']= temp.sum(axis=1)#取出该最大值\n",
    "data['mean_index']= temp.mean(axis=1)#取出该最大值\n",
    "data['median_index']= temp.median(axis=1)#取出该最大值\n",
    "data['I_index'] = (data['max_index'] * data['mean_index'])**0.5\n",
    "data['zong_index'] = ((data['max_index']**2 + data['mean_index']**2)/2)**0.5"
   ]
  },
  {
   "cell_type": "code",
   "execution_count": 42,
   "metadata": {},
   "outputs": [],
   "source": [
    "# data['SO2_index1'] = data['SO2'] / 50\n",
    "\n",
    "# data['NO2_index1'] = data['NO2'] / 80\n",
    "\n",
    "# data['PM10_index1'] = data['PM10'] / 50\n",
    "\n",
    "# data['PM25_index1'] = data['PM2_5'] / 35\n",
    "\n",
    "# data['CO_index1'] = data['CO'] / 4\n",
    "\n",
    "# data['O3_index1'] = data['O3'] / 160"
   ]
  },
  {
   "cell_type": "markdown",
   "metadata": {},
   "source": [
    "#### 构造交叉项"
   ]
  },
  {
   "cell_type": "code",
   "execution_count": 43,
   "metadata": {},
   "outputs": [],
   "source": [
    "data['PM25_PM10'] = data['PM2_5'] * data['PM10']\n",
    "data['PM25_CO'] = data['PM2_5'] * data['CO']\n",
    "# data['PM10_CO'] = data['PM10'] * data['CO']\n",
    "# data['PM10_NO2'] = data['PM10'] * data['NO2']\n",
    "# data['SO2_CO'] = data['SO2'] * data['CO']"
   ]
  },
  {
   "cell_type": "code",
   "execution_count": 44,
   "metadata": {},
   "outputs": [],
   "source": [
    "# data['IAQI_PM25_PM10'] = data['IAQI_PM25'] * data['IAQI_PM10']\n",
    "# data['IAQI_PM25_CO'] = data['IAQI_PM25'] * data['IAQI_CO']\n",
    "# data['IAQI_PM10_CO'] = data['IAQI_PM10'] * data['IAQI_CO']\n",
    "# data['IAQI_PM10_NO2'] = data['IAQI_PM10'] * data['IAQI_NO2']\n",
    "# data['IAQI_SO2_CO'] = data['IAQI_SO2'] * data['IAQI_CO']"
   ]
  },
  {
   "cell_type": "code",
   "execution_count": 45,
   "metadata": {},
   "outputs": [],
   "source": [
    "# 保留两位小数\n",
    "index_feature = ['PM25_index', 'PM10_index', 'SO2_index', 'NO2_index', 'CO_index', 'O3_index',\n",
    "#                  'PM25_index1', 'PM10_index1', 'SO2_index1', 'NO2_index1', 'CO_index1', 'O3_index1',\n",
    "#                  'PM25_B', 'PM10_B', 'SO2_B', 'NO2_B', 'CO_B', 'O3_B',\n",
    "#                  'PM25_mean', 'PM10_mean', 'SO2_mean', 'NO2_mean', 'CO_mean', 'O3_mean',\n",
    "#                  'PM10_CO','SO2_CO','PM10_NO2',\n",
    "                 'PM25_PM10','PM25_CO',\n",
    "                 'median_val',\n",
    "                 'max_index','sum_index','mean_index','median_index','I_index','zong_index']\n",
    "for f in index_feature:\n",
    "    data[f] = data[f].apply(lambda x: round(x,2))"
   ]
  },
  {
   "cell_type": "markdown",
   "metadata": {},
   "source": [
    "### 数据划分为大小两部分"
   ]
  },
  {
   "cell_type": "code",
   "execution_count": 46,
   "metadata": {
    "scrolled": true
   },
   "outputs": [
    {
     "name": "stdout",
     "output_type": "stream",
     "text": [
      "<class 'pandas.core.frame.DataFrame'>\n",
      "RangeIndex: 612 entries, 0 to 611\n",
      "Data columns (total 65 columns):\n",
      " #   Column          Non-Null Count  Dtype         \n",
      "---  ------          --------------  -----         \n",
      " 0   index           612 non-null    int64         \n",
      " 1   date            612 non-null    datetime64[ns]\n",
      " 2   AQI             452 non-null    float64       \n",
      " 3   IPRC            452 non-null    float64       \n",
      " 4   PM2_5           612 non-null    float64       \n",
      " 5   PM10            612 non-null    float64       \n",
      " 6   SO2             612 non-null    float64       \n",
      " 7   NO2             612 non-null    float64       \n",
      " 8   CO              612 non-null    float64       \n",
      " 9   O3              612 non-null    float64       \n",
      " 10  IAQI_PM25       612 non-null    float64       \n",
      " 11  IAQI_PM10       612 non-null    float64       \n",
      " 12  IAQI_SO2        612 non-null    float64       \n",
      " 13  IAQI_NO2        612 non-null    float64       \n",
      " 14  IAQI_CO         612 non-null    float64       \n",
      " 15  IAQI_O3         612 non-null    float64       \n",
      " 16  max_idx         612 non-null    object        \n",
      " 17  max_val         612 non-null    float64       \n",
      " 18  mean_val        612 non-null    float64       \n",
      " 19  median_val      612 non-null    float64       \n",
      " 20  I_val           612 non-null    float64       \n",
      " 21  max_val_质量等级    612 non-null    object        \n",
      " 22  CO_P            612 non-null    uint8         \n",
      " 23  NO2_P           612 non-null    uint8         \n",
      " 24  None_Pollution  612 non-null    uint8         \n",
      " 25  PM10_P          612 non-null    uint8         \n",
      " 26  PM25_P          612 non-null    uint8         \n",
      " 27  严重污染            612 non-null    uint8         \n",
      " 28  中度污染            612 non-null    uint8         \n",
      " 29  优               612 non-null    uint8         \n",
      " 30  良               612 non-null    uint8         \n",
      " 31  轻度污染            612 non-null    uint8         \n",
      " 32  重度污染            612 non-null    uint8         \n",
      " 33  month           612 non-null    int64         \n",
      " 34  quarter         612 non-null    int64         \n",
      " 35  PM25_year       612 non-null    int64         \n",
      " 36  PM10_year       612 non-null    int64         \n",
      " 37  SO2_year        612 non-null    int64         \n",
      " 38  NO2_year        612 non-null    int64         \n",
      " 39  PM25_day        612 non-null    int64         \n",
      " 40  PM10_day        612 non-null    int64         \n",
      " 41  SO2_day         612 non-null    int64         \n",
      " 42  NO2_day         612 non-null    int64         \n",
      " 43  CO_day          612 non-null    int64         \n",
      " 44  O3_day          612 non-null    int64         \n",
      " 45  SO2_B           612 non-null    int64         \n",
      " 46  NO2_B           612 non-null    float64       \n",
      " 47  PM10_B          612 non-null    float64       \n",
      " 48  PM25_B          612 non-null    float64       \n",
      " 49  CO_B            612 non-null    float64       \n",
      " 50  O3_B            612 non-null    int64         \n",
      " 51  SO2_index       612 non-null    float64       \n",
      " 52  NO2_index       612 non-null    float64       \n",
      " 53  PM10_index      612 non-null    float64       \n",
      " 54  PM25_index      612 non-null    float64       \n",
      " 55  CO_index        612 non-null    float64       \n",
      " 56  O3_index        612 non-null    float64       \n",
      " 57  max_index       612 non-null    float64       \n",
      " 58  sum_index       612 non-null    float64       \n",
      " 59  mean_index      612 non-null    float64       \n",
      " 60  median_index    612 non-null    float64       \n",
      " 61  I_index         612 non-null    float64       \n",
      " 62  zong_index      612 non-null    float64       \n",
      " 63  PM25_PM10       612 non-null    float64       \n",
      " 64  PM25_CO         612 non-null    float64       \n",
      "dtypes: datetime64[ns](1), float64(36), int64(15), object(2), uint8(11)\n",
      "memory usage: 264.9+ KB\n"
     ]
    }
   ],
   "source": [
    "data_low = data[data['max_val']<=150].reset_index()\n",
    "# data_low = data.loc[(data['quarter']>=1)&(data['quarter']<=2)].reset_index()\n",
    "data_low.info(verbose=True)"
   ]
  },
  {
   "cell_type": "code",
   "execution_count": 47,
   "metadata": {},
   "outputs": [],
   "source": [
    "feature = [\n",
    "    'PM2_5', 'PM10', 'SO2', 'CO', 'NO2',  'O3',\n",
    "#     'PM25_mean', 'PM10_mean', 'SO2_mean', 'NO2_mean', 'CO_mean', 'O3_mean',\n",
    "#     'PM25_PM10','PM25_CO','PM10_CO','SO2_CO','PM10_NO2',\n",
    "#     'IAQI_PM25_PM10','IAQI_PM25_CO',\n",
    "#     'IAQI_PM10_CO','IAQI_PM10_NO2','IAQI_SO2_CO',\n",
    "    'IAQI_PM25', 'IAQI_PM10', 'IAQI_SO2', 'IAQI_CO', 'IAQI_NO2','IAQI_O3',\n",
    "    'max_val','median_val',\n",
    "#     'I_val',\n",
    "#     'PM25_index', 'PM10_index', 'SO2_index', 'NO2_index', 'CO_index', 'O3_index',\n",
    "#     'PM25_index1', 'PM10_index1', 'SO2_index1', 'NO2_index1', 'CO_index1', 'O3_index1',\n",
    "    'sum_index','max_index',\n",
    "    'zong_index',\n",
    "#     'I_index',\n",
    "    'median_index',\n",
    "    'PM25_year', 'PM10_year', 'SO2_year',  'NO2_year',\n",
    "#     'PM25_day', 'PM10_day',  'NO2_day', 'CO_day', \n",
    "#     'O3_day','SO2_day',\n",
    "#     'PM25_B', 'PM10_B', \n",
    "#     'NO2_B', 'CO_B', \n",
    "#     'O3_B',\n",
    "#     'SO2_B', \n",
    "    'PM25_P','PM10_P','None_Pollution',\n",
    "#     'NO2_P',\n",
    "#     'CO_P', \n",
    "#     'SO2_P',\n",
    "    'month',\n",
    "#     'week',\n",
    "#     'quarter',\n",
    "    '优',\n",
    "    '良','轻度污染',\n",
    "#     '中度污染',\n",
    "#     '重度污染','严重污染'\n",
    "    ]\n",
    "\n",
    "label = ['AQI','IPRC']"
   ]
  },
  {
   "cell_type": "code",
   "execution_count": 48,
   "metadata": {},
   "outputs": [
    {
     "name": "stdout",
     "output_type": "stream",
     "text": [
      "       AQI      IPRC\n",
      "0     78.0  0.480805\n",
      "1    101.0  0.587508\n",
      "2     86.0  0.525599\n",
      "3     59.0  0.364717\n",
      "4    100.0  0.584368\n",
      "..     ...       ...\n",
      "447   73.0  0.453277\n",
      "448   75.0  0.445337\n",
      "449   73.0  0.434397\n",
      "450  104.0  0.623605\n",
      "451  126.0  0.781244\n",
      "\n",
      "[452 rows x 2 columns]\n"
     ]
    }
   ],
   "source": [
    "data_temp = data_low[:452]\n",
    "X = data_temp[feature]\n",
    "y = data_temp[label]\n",
    "\n",
    "print(y)"
   ]
  },
  {
   "cell_type": "code",
   "execution_count": 49,
   "metadata": {},
   "outputs": [
    {
     "data": {
      "text/plain": [
       "SO2_year             0.038774\n",
       "优                    0.042735\n",
       "None_Pollution       0.042735\n",
       "median_index         0.084317\n",
       "PM10_year            0.126570\n",
       "轻度污染                 0.148808\n",
       "PM25_year            0.185954\n",
       "PM25_P               0.197132\n",
       "PM10_P               0.223339\n",
       "良                    0.226108\n",
       "NO2_year             0.244071\n",
       "CO                   0.534432\n",
       "zong_index           0.734146\n",
       "max_index            1.278328\n",
       "sum_index            7.308414\n",
       "month               12.379622\n",
       "IAQI_O3            160.005599\n",
       "IAQI_SO2           234.337654\n",
       "NO2                244.323382\n",
       "median_val         270.976513\n",
       "SO2                302.619027\n",
       "IAQI_CO            313.964954\n",
       "IAQI_NO2           366.380114\n",
       "O3                 630.803041\n",
       "IAQI_PM10         1387.710562\n",
       "PM2_5             1651.487581\n",
       "max_val           2136.888226\n",
       "IAQI_PM25         2578.821706\n",
       "PM10              4908.283011\n",
       "dtype: float64"
      ]
     },
     "execution_count": 49,
     "metadata": {},
     "output_type": "execute_result"
    }
   ],
   "source": [
    "# 检验方差\n",
    "feature_var = data[feature].var().sort_values(ascending=True)\n",
    "feature_var\n",
    "# var_feat_list = list(feature_var[feature_var==0].index)\n",
    "# var_feat_list"
   ]
  },
  {
   "cell_type": "code",
   "execution_count": 50,
   "metadata": {
    "scrolled": false
   },
   "outputs": [
    {
     "name": "stdout",
     "output_type": "stream",
     "text": [
      "Partial Least Squares Regression coefficients: [[ 1.16867253e+00  1.66619440e-02]\n",
      " [-2.84893596e-01 -2.92972293e-03]\n",
      " [ 1.39262720e+00  1.51679953e-02]\n",
      " [-3.24583045e-01  6.14309073e-03]\n",
      " [-4.11054195e-01  5.82816129e-03]\n",
      " [ 3.58266496e-01  7.72272990e-03]\n",
      " [ 7.69114371e-02  1.04010791e-02]\n",
      " [ 2.80336032e+00  1.40625870e-02]\n",
      " [-1.33350372e+00 -2.25867468e-03]\n",
      " [-1.05975987e-01  6.85623147e-03]\n",
      " [-2.32979653e-01  6.56576086e-03]\n",
      " [-3.12176235e-01  3.67298150e-03]\n",
      " [ 1.72060811e+01  8.51160681e-02]\n",
      " [ 2.05738538e-01 -2.59250947e-03]\n",
      " [ 5.34025681e-01  1.04115175e-02]\n",
      " [ 1.29648297e+00 -6.96345089e-03]\n",
      " [ 1.30880250e+00 -3.42083427e-03]\n",
      " [ 3.93326124e-01  1.72043786e-03]\n",
      " [-2.70749254e-01 -1.86221989e-03]\n",
      " [ 4.03288995e-01 -1.06379651e-03]\n",
      " [-2.98486621e-01  1.34407536e-04]\n",
      " [ 1.80920878e-01 -5.97246011e-04]\n",
      " [ 2.06183956e+00 -1.47837095e-03]\n",
      " [ 1.59982801e+00 -7.82291480e-04]\n",
      " [ 2.84130332e-01 -5.92332399e-03]\n",
      " [-7.60191458e-02 -2.21875048e-04]\n",
      " [ 2.84130332e-01 -5.92332399e-03]\n",
      " [ 1.25464278e-01 -9.69956542e-03]\n",
      " [-3.16225554e-01  1.45105571e-02]]\n",
      "Partial Least Squares Regression R2: 0.9955158498731259\n",
      "Partial Least Squares Regression RMSE: 1.332024141179818\n"
     ]
    }
   ],
   "source": [
    "from sklearn.cross_decomposition import PLSRegression\n",
    "from sklearn.model_selection import GridSearchCV\n",
    "from sklearn.model_selection import train_test_split\n",
    "from sklearn.metrics import  r2_score\n",
    "\n",
    "# 训练集、测试集划分\n",
    "x_train,x_test,y_train,y_test = train_test_split(X,y,test_size=0.25,random_state= 42)\n",
    "\n",
    "#回归模型、参数\n",
    "pls_model_setup = PLSRegression(scale=True)\n",
    "param_grid = {'n_components': range(1, 20)}\n",
    "\n",
    "#GridSearchCV优化参数、训练模型\n",
    "gsearch = GridSearchCV(pls_model_setup, param_grid)\n",
    "pls_model = gsearch.fit(x_train, y_train)\n",
    "\n",
    "#打印 coef\n",
    "print('Partial Least Squares Regression coefficients:',pls_model.best_estimator_.coef_)\n",
    "\n",
    "#对测试集做预测\n",
    "pls_prediction = pls_model.predict(x_test)\n",
    "\n",
    "#计算R2，均方差\n",
    "pls_r2 = r2_score(y_test,pls_prediction)\n",
    "pls_rmse = rmse(y_test,pls_prediction)\n",
    "\n",
    "print('Partial Least Squares Regression R2:',pls_r2)\n",
    "print('Partial Least Squares Regression RMSE:',pls_rmse)"
   ]
  },
  {
   "cell_type": "code",
   "execution_count": 57,
   "metadata": {},
   "outputs": [],
   "source": [
    "# best结果\n",
    "# Partial Least Squares Regression R2: 0.9952902671839303\n",
    "# Partial Least Squares Regression RMSE: 1.4912393355593931\n",
    "\n",
    "\n",
    "# Partial Least Squares Regression R2: 0.9951239541057654\n",
    "# Partial Least Squares Regression RMSE: 1.4996737158328708\n",
    "\n",
    "# Partial Least Squares Regression R2: 0.9955158498731259\n",
    "# Partial Least Squares Regression RMSE: 1.332024141179818"
   ]
  },
  {
   "cell_type": "code",
   "execution_count": 51,
   "metadata": {},
   "outputs": [],
   "source": [
    "test  = data_low[452:]\n",
    "X_test = test[feature]\n",
    "y_test = test[label]\n",
    "\n",
    "oof_test = pls_model.predict(X_test)\n",
    "\n",
    "submit = test[['date']]\n",
    "submit[['AQI','IPRC']] = oof_test\n",
    "\n",
    "submit.columns = ['date','AQI','IPRC']\n",
    "submit.to_csv('./result/复赛/PLS_low_gap10_1_332024.csv',index=False)"
   ]
  },
  {
   "cell_type": "code",
   "execution_count": 52,
   "metadata": {},
   "outputs": [
    {
     "name": "stdout",
     "output_type": "stream",
     "text": [
      "<class 'pandas.core.frame.DataFrame'>\n",
      "RangeIndex: 82 entries, 0 to 81\n",
      "Data columns (total 65 columns):\n",
      " #   Column          Non-Null Count  Dtype         \n",
      "---  ------          --------------  -----         \n",
      " 0   index           82 non-null     int64         \n",
      " 1   date            82 non-null     datetime64[ns]\n",
      " 2   AQI             31 non-null     float64       \n",
      " 3   IPRC            31 non-null     float64       \n",
      " 4   PM2_5           82 non-null     float64       \n",
      " 5   PM10            82 non-null     float64       \n",
      " 6   SO2             82 non-null     float64       \n",
      " 7   NO2             82 non-null     float64       \n",
      " 8   CO              82 non-null     float64       \n",
      " 9   O3              82 non-null     float64       \n",
      " 10  IAQI_PM25       82 non-null     float64       \n",
      " 11  IAQI_PM10       82 non-null     float64       \n",
      " 12  IAQI_SO2        82 non-null     float64       \n",
      " 13  IAQI_NO2        82 non-null     float64       \n",
      " 14  IAQI_CO         82 non-null     float64       \n",
      " 15  IAQI_O3         82 non-null     float64       \n",
      " 16  max_idx         82 non-null     object        \n",
      " 17  max_val         82 non-null     float64       \n",
      " 18  mean_val        82 non-null     float64       \n",
      " 19  median_val      82 non-null     float64       \n",
      " 20  I_val           82 non-null     float64       \n",
      " 21  max_val_质量等级    82 non-null     object        \n",
      " 22  CO_P            82 non-null     uint8         \n",
      " 23  NO2_P           82 non-null     uint8         \n",
      " 24  None_Pollution  82 non-null     uint8         \n",
      " 25  PM10_P          82 non-null     uint8         \n",
      " 26  PM25_P          82 non-null     uint8         \n",
      " 27  严重污染            82 non-null     uint8         \n",
      " 28  中度污染            82 non-null     uint8         \n",
      " 29  优               82 non-null     uint8         \n",
      " 30  良               82 non-null     uint8         \n",
      " 31  轻度污染            82 non-null     uint8         \n",
      " 32  重度污染            82 non-null     uint8         \n",
      " 33  month           82 non-null     int64         \n",
      " 34  quarter         82 non-null     int64         \n",
      " 35  PM25_year       82 non-null     int64         \n",
      " 36  PM10_year       82 non-null     int64         \n",
      " 37  SO2_year        82 non-null     int64         \n",
      " 38  NO2_year        82 non-null     int64         \n",
      " 39  PM25_day        82 non-null     int64         \n",
      " 40  PM10_day        82 non-null     int64         \n",
      " 41  SO2_day         82 non-null     int64         \n",
      " 42  NO2_day         82 non-null     int64         \n",
      " 43  CO_day          82 non-null     int64         \n",
      " 44  O3_day          82 non-null     int64         \n",
      " 45  SO2_B           82 non-null     int64         \n",
      " 46  NO2_B           82 non-null     float64       \n",
      " 47  PM10_B          82 non-null     float64       \n",
      " 48  PM25_B          82 non-null     float64       \n",
      " 49  CO_B            82 non-null     float64       \n",
      " 50  O3_B            82 non-null     int64         \n",
      " 51  SO2_index       82 non-null     float64       \n",
      " 52  NO2_index       82 non-null     float64       \n",
      " 53  PM10_index      82 non-null     float64       \n",
      " 54  PM25_index      82 non-null     float64       \n",
      " 55  CO_index        82 non-null     float64       \n",
      " 56  O3_index        82 non-null     float64       \n",
      " 57  max_index       82 non-null     float64       \n",
      " 58  sum_index       82 non-null     float64       \n",
      " 59  mean_index      82 non-null     float64       \n",
      " 60  median_index    82 non-null     float64       \n",
      " 61  I_index         82 non-null     float64       \n",
      " 62  zong_index      82 non-null     float64       \n",
      " 63  PM25_PM10       82 non-null     float64       \n",
      " 64  PM25_CO         82 non-null     float64       \n",
      "dtypes: datetime64[ns](1), float64(36), int64(15), object(2), uint8(11)\n",
      "memory usage: 35.6+ KB\n"
     ]
    }
   ],
   "source": [
    "data_high = data[data['max_val']>150].reset_index()\n",
    "# data_high = data.loc[(data['quarter']!=1)&(data['quarter']!=2)].reset_index()\n",
    "data_high.info()"
   ]
  },
  {
   "cell_type": "code",
   "execution_count": 77,
   "metadata": {},
   "outputs": [],
   "source": [
    "feature = [\n",
    "    'PM2_5', 'PM10', 'SO2', 'CO', 'NO2',  'O3',\n",
    "#     'PM25_mean', 'PM10_mean', 'SO2_mean', 'NO2_mean', 'CO_mean', 'O3_mean',\n",
    "#     'PM25_PM10','PM25_CO',\n",
    "#     'PM10_CO','SO2_CO',\n",
    "#     'IAQI_PM25_PM10','IAQI_PM25_CO',\n",
    "#     'IAQI_PM10_CO','IAQI_PM10_NO2','IAQI_SO2_CO',\n",
    "    'IAQI_PM25', 'IAQI_PM10', 'IAQI_SO2', 'IAQI_CO', 'IAQI_NO2','IAQI_O3',\n",
    "    'max_val','median_val',\n",
    "#     'I_val',\n",
    "#     'PM25_index', 'PM10_index', 'NO2_index', 'CO_index', 'O3_index','SO2_index', \n",
    "#     'PM25_index1', 'PM10_index1', 'SO2_index1', 'NO2_index1', 'CO_index1', 'O3_index1',\n",
    "    'sum_index','max_index',\n",
    "    'zong_index',\n",
    "#     'I_index',\n",
    "    'median_index',\n",
    "    'PM25_year', 'PM10_year', 'SO2_year',  'NO2_year',\n",
    "    'PM25_day', 'PM10_day',  'NO2_day', 'CO_day',\n",
    "#     'O3_day','SO2_day',\n",
    "#     'PM25_B', 'PM10_B', \n",
    "#     'NO2_B', 'CO_B', \n",
    "#     'O3_B',\n",
    "#     'SO2_B', \n",
    "    'PM25_P','PM10_P','None_Pollution',\n",
    "#     'NO2_P',\n",
    "#     'CO_P', \n",
    "#     'SO2_P',\n",
    "    'month',\n",
    "#     'week',\n",
    "#     'quarter',\n",
    "#     '优', '良',  \n",
    "#     '轻度污染',\n",
    "    '中度污染', \n",
    "    '重度污染','严重污染'\n",
    "    ]\n",
    "\n",
    "label = ['AQI','IPRC']"
   ]
  },
  {
   "cell_type": "code",
   "execution_count": 78,
   "metadata": {},
   "outputs": [
    {
     "name": "stdout",
     "output_type": "stream",
     "text": [
      "      AQI      IPRC\n",
      "0   224.0  1.538474\n",
      "1   254.0  1.686203\n",
      "2   157.0  0.999250\n",
      "3   162.0  1.037869\n",
      "4   159.0  1.053486\n",
      "5   183.0  1.180060\n",
      "6   172.0  1.107230\n",
      "7   207.0  1.472292\n",
      "8   175.0  1.186265\n",
      "9   162.0  1.080951\n",
      "10  207.0  1.476473\n",
      "11  242.0  1.642458\n",
      "12  192.0  1.271617\n",
      "13  185.0  1.310787\n",
      "14  152.0  1.146349\n",
      "15  223.0  1.684716\n",
      "16  160.0  1.171422\n",
      "17  202.0  1.545360\n",
      "18  218.0  1.630431\n",
      "19  199.0  1.482185\n",
      "20  248.0  1.762622\n",
      "21  246.0  1.738292\n",
      "22  173.0  1.255535\n",
      "23  203.0  1.488372\n",
      "24  240.0  1.713707\n",
      "25  173.0  1.183249\n",
      "26  201.0  1.459977\n",
      "27  154.0  1.103007\n",
      "28  181.0  1.281104\n",
      "29  155.0  1.105625\n",
      "30  168.0  0.976965\n"
     ]
    }
   ],
   "source": [
    "data_temp = data_high[:31]\n",
    "X = data_temp[feature]\n",
    "y = data_temp[label]\n",
    "\n",
    "print(y)"
   ]
  },
  {
   "cell_type": "code",
   "execution_count": 79,
   "metadata": {},
   "outputs": [
    {
     "data": {
      "text/plain": [
       "严重污染                 0.002878\n",
       "CO_day               0.009999\n",
       "NO2_day              0.030740\n",
       "SO2_year             0.038774\n",
       "None_Pollution       0.042735\n",
       "重度污染                 0.046658\n",
       "中度污染                 0.061978\n",
       "median_index         0.084317\n",
       "PM10_year            0.126570\n",
       "PM25_day             0.182242\n",
       "PM25_year            0.185954\n",
       "PM25_P               0.197132\n",
       "PM10_day             0.202952\n",
       "PM10_P               0.223339\n",
       "NO2_year             0.244071\n",
       "CO                   0.534432\n",
       "zong_index           0.734146\n",
       "max_index            1.278328\n",
       "sum_index            7.308414\n",
       "month               12.379622\n",
       "IAQI_O3            160.005599\n",
       "IAQI_SO2           234.337654\n",
       "NO2                244.323382\n",
       "median_val         270.976513\n",
       "SO2                302.619027\n",
       "IAQI_CO            313.964954\n",
       "IAQI_NO2           366.380114\n",
       "O3                 630.803041\n",
       "IAQI_PM10         1387.710562\n",
       "PM2_5             1651.487581\n",
       "max_val           2136.888226\n",
       "IAQI_PM25         2578.821706\n",
       "PM10              4908.283011\n",
       "dtype: float64"
      ]
     },
     "execution_count": 79,
     "metadata": {},
     "output_type": "execute_result"
    }
   ],
   "source": [
    "# 检验方差\n",
    "feature_var = data[feature].var().sort_values(ascending=True)\n",
    "feature_var\n",
    "# var_feat_list = list(feature_var[feature_var==0].index)\n",
    "# var_feat_list"
   ]
  },
  {
   "cell_type": "code",
   "execution_count": 80,
   "metadata": {
    "scrolled": true
   },
   "outputs": [
    {
     "name": "stdout",
     "output_type": "stream",
     "text": [
      "Partial Least Squares Regression coefficients: [[ 2.06876970e+00  1.01502881e-03]\n",
      " [-6.30743675e+00  4.30905070e-03]\n",
      " [ 1.15690476e+01  2.26518461e-02]\n",
      " [-4.68583334e+00  1.04613813e-02]\n",
      " [ 1.27919700e+00  1.28570666e-02]\n",
      " [-8.81362723e+00 -1.27143640e-02]\n",
      " [ 1.21404551e+01  5.85832889e-02]\n",
      " [ 4.38195016e+00  2.30381333e-02]\n",
      " [-5.13271959e+00  1.37611854e-02]\n",
      " [ 1.72402677e+00  1.59434337e-02]\n",
      " [ 1.53511037e+00  8.81685930e-03]\n",
      " [ 7.97162607e+00  1.83438279e-02]\n",
      " [ 1.49381836e+01  6.95847516e-02]\n",
      " [ 3.30416101e+00  1.06138564e-05]\n",
      " [ 9.25249324e-01  1.05199651e-02]\n",
      " [ 3.23777346e+00  8.58385286e-03]\n",
      " [ 3.04070741e+00  1.08475836e-02]\n",
      " [-8.84536621e+00 -1.74912832e-02]\n",
      " [ 0.00000000e+00  0.00000000e+00]\n",
      " [ 0.00000000e+00  0.00000000e+00]\n",
      " [-5.34420269e-01 -2.34001369e-03]\n",
      " [-1.46849844e+00 -1.58469432e-03]\n",
      " [-1.46849844e+00 -1.58469432e-03]\n",
      " [ 0.00000000e+00  0.00000000e+00]\n",
      " [ 0.00000000e+00  0.00000000e+00]\n",
      " [ 0.00000000e+00  0.00000000e+00]\n",
      " [-1.46849844e+00 -1.58469432e-03]\n",
      " [ 1.46849844e+00  1.58469432e-03]\n",
      " [ 0.00000000e+00  0.00000000e+00]\n",
      " [-1.28579102e+00 -2.47026727e-03]\n",
      " [ 1.29166927e-01 -2.62068863e-02]\n",
      " [-1.29166927e-01  2.62068863e-02]\n",
      " [ 0.00000000e+00  0.00000000e+00]]\n",
      "Partial Least Squares Regression R2: 0.9780595505257629\n",
      "Partial Least Squares Regression RMSE: 4.3940176777822915\n"
     ]
    }
   ],
   "source": [
    "from sklearn.cross_decomposition import PLSRegression\n",
    "from sklearn.model_selection import GridSearchCV\n",
    "from sklearn.model_selection import train_test_split\n",
    "from sklearn.metrics import  r2_score\n",
    "\n",
    "# 训练集、测试集划分\n",
    "x_train,x_test,y_train,y_test = train_test_split(X,y,test_size=0.25,random_state= 42)\n",
    "\n",
    "#回归模型、参数\n",
    "pls_model_setup = PLSRegression(scale=True)\n",
    "param_grid = {'n_components': range(1, 20)}\n",
    "\n",
    "#GridSearchCV优化参数、训练模型\n",
    "gsearch = GridSearchCV(pls_model_setup, param_grid)\n",
    "pls_model = gsearch.fit(x_train, y_train)\n",
    "\n",
    "#打印 coef\n",
    "print('Partial Least Squares Regression coefficients:',pls_model.best_estimator_.coef_)\n",
    "\n",
    "#对测试集做预测\n",
    "pls_prediction = pls_model.predict(x_test)\n",
    "\n",
    "#计算R2，均方差\n",
    "pls_r2 = r2_score(y_test,pls_prediction)\n",
    "pls_rmse = rmse(y_test,pls_prediction)\n",
    "\n",
    "print('Partial Least Squares Regression R2:',pls_r2)\n",
    "print('Partial Least Squares Regression RMSE:',pls_rmse)"
   ]
  },
  {
   "cell_type": "code",
   "execution_count": 59,
   "metadata": {},
   "outputs": [],
   "source": [
    "# best结果\n",
    "# Partial Least Squares Regression R2: 0.978382998641451\n",
    "# Partial Least Squares Regression RMSE: 4.374678939928147\n",
    "\n",
    "\n",
    "# Partial Least Squares Regression R2: 0.9780595505257632\n",
    "# Partial Least Squares Regression RMSE: 4.394017677782249"
   ]
  },
  {
   "cell_type": "code",
   "execution_count": 81,
   "metadata": {},
   "outputs": [],
   "source": [
    "test  = data_high[31:]\n",
    "X_test = test[feature]\n",
    "y_test = test[label]\n",
    "\n",
    "oof_test = pls_model.predict(X_test)\n",
    "\n",
    "submit = test[['date']]\n",
    "submit[['AQI','IPRC']] = oof_test\n",
    "\n",
    "submit.columns = ['date','AQI','IPRC']\n",
    "submit.to_csv('./result/复赛/PLS_high_gap10_4_394017.csv',index=False)"
   ]
  },
  {
   "cell_type": "code",
   "execution_count": null,
   "metadata": {},
   "outputs": [],
   "source": []
  },
  {
   "cell_type": "code",
   "execution_count": null,
   "metadata": {},
   "outputs": [],
   "source": []
  }
 ],
 "metadata": {
  "kernelspec": {
   "display_name": "tf2",
   "language": "python",
   "name": "tf2"
  },
  "language_info": {
   "codemirror_mode": {
    "name": "ipython",
    "version": 3
   },
   "file_extension": ".py",
   "mimetype": "text/x-python",
   "name": "python",
   "nbconvert_exporter": "python",
   "pygments_lexer": "ipython3",
   "version": "3.8.5"
  },
  "toc": {
   "base_numbering": 1,
   "nav_menu": {},
   "number_sections": true,
   "sideBar": true,
   "skip_h1_title": false,
   "title_cell": "Table of Contents",
   "title_sidebar": "Contents",
   "toc_cell": false,
   "toc_position": {},
   "toc_section_display": true,
   "toc_window_display": false
  }
 },
 "nbformat": 4,
 "nbformat_minor": 4
}
